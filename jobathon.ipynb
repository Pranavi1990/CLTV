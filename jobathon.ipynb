{
 "cells": [
  {
   "cell_type": "code",
   "execution_count": 1,
   "id": "c8a0756f-be51-4f45-af24-c0c41dce845b",
   "metadata": {},
   "outputs": [],
   "source": [
    "import pandas as pd\n",
    "import seaborn as sns\n",
    "from sklearn.preprocessing import PowerTransformer\n",
    "import matplotlib.pyplot as plt\n",
    "import numpy as nm\n",
    "sns.set_style('whitegrid') # set style for visualization\n",
    "import warnings # ignore warnings\n",
    "warnings.filterwarnings('ignore')"
   ]
  },
  {
   "cell_type": "code",
   "execution_count": 2,
   "id": "5960a7e5-af75-424b-9e03-21e0a3dcb04f",
   "metadata": {},
   "outputs": [],
   "source": [
    "df=pd.read_csv('train_BRCpofr.csv')"
   ]
  },
  {
   "cell_type": "code",
   "execution_count": 69,
   "id": "6b3a42d0-4801-49fb-af3f-ca2450ac0f7f",
   "metadata": {},
   "outputs": [
    {
     "name": "stdout",
     "output_type": "stream",
     "text": [
      "<class 'pandas.core.frame.DataFrame'>\n",
      "RangeIndex: 89392 entries, 0 to 89391\n",
      "Data columns (total 12 columns):\n",
      " #   Column          Non-Null Count  Dtype \n",
      "---  ------          --------------  ----- \n",
      " 0   id              89392 non-null  int64 \n",
      " 1   gender          89392 non-null  object\n",
      " 2   area            89392 non-null  object\n",
      " 3   qualification   89392 non-null  object\n",
      " 4   income          89392 non-null  object\n",
      " 5   marital_status  89392 non-null  int64 \n",
      " 6   vintage         89392 non-null  int64 \n",
      " 7   claim_amount    89392 non-null  int64 \n",
      " 8   num_policies    89392 non-null  object\n",
      " 9   policy          89392 non-null  object\n",
      " 10  type_of_policy  89392 non-null  object\n",
      " 11  cltv            89392 non-null  int64 \n",
      "dtypes: int64(5), object(7)\n",
      "memory usage: 8.2+ MB\n"
     ]
    }
   ],
   "source": [
    "df.info()"
   ]
  },
  {
   "cell_type": "code",
   "execution_count": 4,
   "id": "65f4c676-e091-4152-b6d9-f82f69db0722",
   "metadata": {},
   "outputs": [
    {
     "data": {
      "text/html": [
       "<div>\n",
       "<style scoped>\n",
       "    .dataframe tbody tr th:only-of-type {\n",
       "        vertical-align: middle;\n",
       "    }\n",
       "\n",
       "    .dataframe tbody tr th {\n",
       "        vertical-align: top;\n",
       "    }\n",
       "\n",
       "    .dataframe thead th {\n",
       "        text-align: right;\n",
       "    }\n",
       "</style>\n",
       "<table border=\"1\" class=\"dataframe\">\n",
       "  <thead>\n",
       "    <tr style=\"text-align: right;\">\n",
       "      <th></th>\n",
       "      <th>id</th>\n",
       "      <th>marital_status</th>\n",
       "      <th>vintage</th>\n",
       "      <th>claim_amount</th>\n",
       "      <th>cltv</th>\n",
       "    </tr>\n",
       "  </thead>\n",
       "  <tbody>\n",
       "    <tr>\n",
       "      <th>count</th>\n",
       "      <td>89392.000000</td>\n",
       "      <td>89392.000000</td>\n",
       "      <td>89392.000000</td>\n",
       "      <td>89392.000000</td>\n",
       "      <td>89392.000000</td>\n",
       "    </tr>\n",
       "    <tr>\n",
       "      <th>mean</th>\n",
       "      <td>44696.500000</td>\n",
       "      <td>0.575488</td>\n",
       "      <td>4.595669</td>\n",
       "      <td>4351.502416</td>\n",
       "      <td>97952.828978</td>\n",
       "    </tr>\n",
       "    <tr>\n",
       "      <th>std</th>\n",
       "      <td>25805.391969</td>\n",
       "      <td>0.494272</td>\n",
       "      <td>2.290446</td>\n",
       "      <td>3262.359775</td>\n",
       "      <td>90613.814793</td>\n",
       "    </tr>\n",
       "    <tr>\n",
       "      <th>min</th>\n",
       "      <td>1.000000</td>\n",
       "      <td>0.000000</td>\n",
       "      <td>0.000000</td>\n",
       "      <td>0.000000</td>\n",
       "      <td>24828.000000</td>\n",
       "    </tr>\n",
       "    <tr>\n",
       "      <th>25%</th>\n",
       "      <td>22348.750000</td>\n",
       "      <td>0.000000</td>\n",
       "      <td>3.000000</td>\n",
       "      <td>2406.000000</td>\n",
       "      <td>52836.000000</td>\n",
       "    </tr>\n",
       "    <tr>\n",
       "      <th>50%</th>\n",
       "      <td>44696.500000</td>\n",
       "      <td>1.000000</td>\n",
       "      <td>5.000000</td>\n",
       "      <td>4089.000000</td>\n",
       "      <td>66396.000000</td>\n",
       "    </tr>\n",
       "    <tr>\n",
       "      <th>75%</th>\n",
       "      <td>67044.250000</td>\n",
       "      <td>1.000000</td>\n",
       "      <td>6.000000</td>\n",
       "      <td>6094.000000</td>\n",
       "      <td>103440.000000</td>\n",
       "    </tr>\n",
       "    <tr>\n",
       "      <th>max</th>\n",
       "      <td>89392.000000</td>\n",
       "      <td>1.000000</td>\n",
       "      <td>8.000000</td>\n",
       "      <td>31894.000000</td>\n",
       "      <td>724068.000000</td>\n",
       "    </tr>\n",
       "  </tbody>\n",
       "</table>\n",
       "</div>"
      ],
      "text/plain": [
       "                 id  marital_status       vintage  claim_amount           cltv\n",
       "count  89392.000000    89392.000000  89392.000000  89392.000000   89392.000000\n",
       "mean   44696.500000        0.575488      4.595669   4351.502416   97952.828978\n",
       "std    25805.391969        0.494272      2.290446   3262.359775   90613.814793\n",
       "min        1.000000        0.000000      0.000000      0.000000   24828.000000\n",
       "25%    22348.750000        0.000000      3.000000   2406.000000   52836.000000\n",
       "50%    44696.500000        1.000000      5.000000   4089.000000   66396.000000\n",
       "75%    67044.250000        1.000000      6.000000   6094.000000  103440.000000\n",
       "max    89392.000000        1.000000      8.000000  31894.000000  724068.000000"
      ]
     },
     "execution_count": 4,
     "metadata": {},
     "output_type": "execute_result"
    }
   ],
   "source": [
    "df.describe()"
   ]
  },
  {
   "cell_type": "code",
   "execution_count": 5,
   "id": "de41a71a-8e6a-416d-8907-5625d1f34b97",
   "metadata": {},
   "outputs": [
    {
     "data": {
      "text/html": [
       "<div>\n",
       "<style scoped>\n",
       "    .dataframe tbody tr th:only-of-type {\n",
       "        vertical-align: middle;\n",
       "    }\n",
       "\n",
       "    .dataframe tbody tr th {\n",
       "        vertical-align: top;\n",
       "    }\n",
       "\n",
       "    .dataframe thead th {\n",
       "        text-align: right;\n",
       "    }\n",
       "</style>\n",
       "<table border=\"1\" class=\"dataframe\">\n",
       "  <thead>\n",
       "    <tr style=\"text-align: right;\">\n",
       "      <th></th>\n",
       "      <th>gender</th>\n",
       "      <th>area</th>\n",
       "      <th>qualification</th>\n",
       "      <th>income</th>\n",
       "      <th>num_policies</th>\n",
       "      <th>policy</th>\n",
       "      <th>type_of_policy</th>\n",
       "    </tr>\n",
       "  </thead>\n",
       "  <tbody>\n",
       "    <tr>\n",
       "      <th>count</th>\n",
       "      <td>89392</td>\n",
       "      <td>89392</td>\n",
       "      <td>89392</td>\n",
       "      <td>89392</td>\n",
       "      <td>89392</td>\n",
       "      <td>89392</td>\n",
       "      <td>89392</td>\n",
       "    </tr>\n",
       "    <tr>\n",
       "      <th>unique</th>\n",
       "      <td>2</td>\n",
       "      <td>2</td>\n",
       "      <td>3</td>\n",
       "      <td>4</td>\n",
       "      <td>2</td>\n",
       "      <td>3</td>\n",
       "      <td>3</td>\n",
       "    </tr>\n",
       "    <tr>\n",
       "      <th>top</th>\n",
       "      <td>Male</td>\n",
       "      <td>Urban</td>\n",
       "      <td>High School</td>\n",
       "      <td>5L-10L</td>\n",
       "      <td>More than 1</td>\n",
       "      <td>A</td>\n",
       "      <td>Platinum</td>\n",
       "    </tr>\n",
       "    <tr>\n",
       "      <th>freq</th>\n",
       "      <td>50497</td>\n",
       "      <td>62455</td>\n",
       "      <td>46247</td>\n",
       "      <td>52716</td>\n",
       "      <td>60263</td>\n",
       "      <td>56644</td>\n",
       "      <td>47796</td>\n",
       "    </tr>\n",
       "  </tbody>\n",
       "</table>\n",
       "</div>"
      ],
      "text/plain": [
       "       gender   area qualification  income num_policies policy type_of_policy\n",
       "count   89392  89392         89392   89392        89392  89392          89392\n",
       "unique      2      2             3       4            2      3              3\n",
       "top      Male  Urban   High School  5L-10L  More than 1      A       Platinum\n",
       "freq    50497  62455         46247   52716        60263  56644          47796"
      ]
     },
     "execution_count": 5,
     "metadata": {},
     "output_type": "execute_result"
    }
   ],
   "source": [
    "df.describe(include='O')"
   ]
  },
  {
   "cell_type": "code",
   "execution_count": 6,
   "id": "b0fd0ce6-27e9-4948-9ad9-1f645706af9e",
   "metadata": {},
   "outputs": [
    {
     "data": {
      "text/html": [
       "<div>\n",
       "<style scoped>\n",
       "    .dataframe tbody tr th:only-of-type {\n",
       "        vertical-align: middle;\n",
       "    }\n",
       "\n",
       "    .dataframe tbody tr th {\n",
       "        vertical-align: top;\n",
       "    }\n",
       "\n",
       "    .dataframe thead th {\n",
       "        text-align: right;\n",
       "    }\n",
       "</style>\n",
       "<table border=\"1\" class=\"dataframe\">\n",
       "  <thead>\n",
       "    <tr style=\"text-align: right;\">\n",
       "      <th></th>\n",
       "      <th>id</th>\n",
       "      <th>gender</th>\n",
       "      <th>area</th>\n",
       "      <th>qualification</th>\n",
       "      <th>income</th>\n",
       "      <th>marital_status</th>\n",
       "      <th>vintage</th>\n",
       "      <th>claim_amount</th>\n",
       "      <th>num_policies</th>\n",
       "      <th>policy</th>\n",
       "      <th>type_of_policy</th>\n",
       "      <th>cltv</th>\n",
       "    </tr>\n",
       "  </thead>\n",
       "  <tbody>\n",
       "    <tr>\n",
       "      <th>0</th>\n",
       "      <td>1</td>\n",
       "      <td>Male</td>\n",
       "      <td>Urban</td>\n",
       "      <td>Bachelor</td>\n",
       "      <td>5L-10L</td>\n",
       "      <td>1</td>\n",
       "      <td>5</td>\n",
       "      <td>5790</td>\n",
       "      <td>More than 1</td>\n",
       "      <td>A</td>\n",
       "      <td>Platinum</td>\n",
       "      <td>64308</td>\n",
       "    </tr>\n",
       "    <tr>\n",
       "      <th>1</th>\n",
       "      <td>2</td>\n",
       "      <td>Male</td>\n",
       "      <td>Rural</td>\n",
       "      <td>High School</td>\n",
       "      <td>5L-10L</td>\n",
       "      <td>0</td>\n",
       "      <td>8</td>\n",
       "      <td>5080</td>\n",
       "      <td>More than 1</td>\n",
       "      <td>A</td>\n",
       "      <td>Platinum</td>\n",
       "      <td>515400</td>\n",
       "    </tr>\n",
       "    <tr>\n",
       "      <th>2</th>\n",
       "      <td>3</td>\n",
       "      <td>Male</td>\n",
       "      <td>Urban</td>\n",
       "      <td>Bachelor</td>\n",
       "      <td>5L-10L</td>\n",
       "      <td>1</td>\n",
       "      <td>8</td>\n",
       "      <td>2599</td>\n",
       "      <td>More than 1</td>\n",
       "      <td>A</td>\n",
       "      <td>Platinum</td>\n",
       "      <td>64212</td>\n",
       "    </tr>\n",
       "    <tr>\n",
       "      <th>3</th>\n",
       "      <td>4</td>\n",
       "      <td>Female</td>\n",
       "      <td>Rural</td>\n",
       "      <td>High School</td>\n",
       "      <td>5L-10L</td>\n",
       "      <td>0</td>\n",
       "      <td>7</td>\n",
       "      <td>0</td>\n",
       "      <td>More than 1</td>\n",
       "      <td>A</td>\n",
       "      <td>Platinum</td>\n",
       "      <td>97920</td>\n",
       "    </tr>\n",
       "    <tr>\n",
       "      <th>4</th>\n",
       "      <td>5</td>\n",
       "      <td>Male</td>\n",
       "      <td>Urban</td>\n",
       "      <td>High School</td>\n",
       "      <td>More than 10L</td>\n",
       "      <td>1</td>\n",
       "      <td>6</td>\n",
       "      <td>3508</td>\n",
       "      <td>More than 1</td>\n",
       "      <td>A</td>\n",
       "      <td>Gold</td>\n",
       "      <td>59736</td>\n",
       "    </tr>\n",
       "  </tbody>\n",
       "</table>\n",
       "</div>"
      ],
      "text/plain": [
       "   id  gender   area qualification         income  marital_status  vintage  \\\n",
       "0   1    Male  Urban      Bachelor         5L-10L               1        5   \n",
       "1   2    Male  Rural   High School         5L-10L               0        8   \n",
       "2   3    Male  Urban      Bachelor         5L-10L               1        8   \n",
       "3   4  Female  Rural   High School         5L-10L               0        7   \n",
       "4   5    Male  Urban   High School  More than 10L               1        6   \n",
       "\n",
       "   claim_amount num_policies policy type_of_policy    cltv  \n",
       "0          5790  More than 1      A       Platinum   64308  \n",
       "1          5080  More than 1      A       Platinum  515400  \n",
       "2          2599  More than 1      A       Platinum   64212  \n",
       "3             0  More than 1      A       Platinum   97920  \n",
       "4          3508  More than 1      A           Gold   59736  "
      ]
     },
     "execution_count": 6,
     "metadata": {},
     "output_type": "execute_result"
    }
   ],
   "source": [
    "df.head()"
   ]
  },
  {
   "cell_type": "code",
   "execution_count": 4,
   "id": "e45dd8bb-3a17-4af4-80a5-079eebc44cde",
   "metadata": {},
   "outputs": [
    {
     "data": {
      "text/plain": [
       "id                0\n",
       "gender            0\n",
       "area              0\n",
       "qualification     0\n",
       "income            0\n",
       "marital_status    0\n",
       "vintage           0\n",
       "claim_amount      0\n",
       "num_policies      0\n",
       "policy            0\n",
       "type_of_policy    0\n",
       "cltv              0\n",
       "dtype: int64"
      ]
     },
     "execution_count": 4,
     "metadata": {},
     "output_type": "execute_result"
    }
   ],
   "source": [
    "df.isnull().sum()"
   ]
  },
  {
   "cell_type": "code",
   "execution_count": 5,
   "id": "3d5fa07f-ddb9-4f92-bf25-f9ef62a72f6d",
   "metadata": {},
   "outputs": [
    {
     "data": {
      "text/html": [
       "<div>\n",
       "<style scoped>\n",
       "    .dataframe tbody tr th:only-of-type {\n",
       "        vertical-align: middle;\n",
       "    }\n",
       "\n",
       "    .dataframe tbody tr th {\n",
       "        vertical-align: top;\n",
       "    }\n",
       "\n",
       "    .dataframe thead th {\n",
       "        text-align: right;\n",
       "    }\n",
       "</style>\n",
       "<table border=\"1\" class=\"dataframe\">\n",
       "  <thead>\n",
       "    <tr style=\"text-align: right;\">\n",
       "      <th></th>\n",
       "      <th>id</th>\n",
       "      <th>gender</th>\n",
       "      <th>area</th>\n",
       "      <th>qualification</th>\n",
       "      <th>income</th>\n",
       "      <th>marital_status</th>\n",
       "      <th>vintage</th>\n",
       "      <th>claim_amount</th>\n",
       "      <th>num_policies</th>\n",
       "      <th>policy</th>\n",
       "      <th>type_of_policy</th>\n",
       "      <th>cltv</th>\n",
       "    </tr>\n",
       "  </thead>\n",
       "  <tbody>\n",
       "  </tbody>\n",
       "</table>\n",
       "</div>"
      ],
      "text/plain": [
       "Empty DataFrame\n",
       "Columns: [id, gender, area, qualification, income, marital_status, vintage, claim_amount, num_policies, policy, type_of_policy, cltv]\n",
       "Index: []"
      ]
     },
     "execution_count": 5,
     "metadata": {},
     "output_type": "execute_result"
    }
   ],
   "source": [
    "df[df.duplicated(keep='first')]"
   ]
  },
  {
   "cell_type": "markdown",
   "id": "d9a4ee34-5a9c-4980-990c-b98ade857f02",
   "metadata": {},
   "source": [
    "### There are no duplicate values"
   ]
  },
  {
   "cell_type": "code",
   "execution_count": 9,
   "id": "13c5682e-0f17-4ab4-8166-9555f7149062",
   "metadata": {},
   "outputs": [
    {
     "data": {
      "image/png": "[encoded data removed]",
      "text/plain": [
       "<Figure size 720x432 with 1 Axes>"
      ]
     },
     "metadata": {},
     "output_type": "display_data"
    }
   ],
   "source": [
    "plt.figure(figsize=(10,6))\n",
    "sns.distplot(df.cltv,color='r')\n",
    "plt.title('cltv Distribution',size=18)\n",
    "plt.xlabel('cltv',size=14)\n",
    "plt.ylabel('Density',size=14)\n",
    "plt.show()"
   ]
  },
  {
   "cell_type": "markdown",
   "id": "fedf3227-dd11-4028-ad28-d57a5f4d2e29",
   "metadata": {},
   "source": [
    "### looks like positively skewd data\n"
   ]
  },
  {
   "cell_type": "code",
   "execution_count": 10,
   "id": "92cfe8db-8f19-4981-837d-270f546a6f17",
   "metadata": {},
   "outputs": [
    {
     "data": {
      "image/png": "[encoded data removed]",
      "text/plain": [
       "<Figure size 720x432 with 1 Axes>"
      ]
     },
     "metadata": {},
     "output_type": "display_data"
    }
   ],
   "source": [
    "plt.figure(figsize=(10,6))\n",
    "plt.hist(df.claim_amount,color='y')\n",
    "plt.title('claim_amount Distribution',size=18)\n",
    "plt.show()"
   ]
  },
  {
   "cell_type": "code",
   "execution_count": 11,
   "id": "a0d98c1a-5e37-4a0b-b59d-dfdcd079e465",
   "metadata": {},
   "outputs": [
    {
     "data": {
      "image/png": "[encoded data removed]",
      "text/plain": [
       "<Figure size 720x432 with 1 Axes>"
      ]
     },
     "metadata": {},
     "output_type": "display_data"
    }
   ],
   "source": [
    "plt.figure(figsize = (10,6))\n",
    "sns.boxplot(df.claim_amount)\n",
    "plt.title('claim_amount',size=18)\n",
    "plt.show()"
   ]
  },
  {
   "cell_type": "code",
   "execution_count": 12,
   "id": "740e7380-2594-418b-bf17-4aa5da5fca44",
   "metadata": {},
   "outputs": [
    {
     "name": "stdout",
     "output_type": "stream",
     "text": [
      "3688.0\n"
     ]
    }
   ],
   "source": [
    "Q1 = df['claim_amount'].quantile(0.25)\n",
    "Q3 = df['claim_amount'].quantile(0.75)\n",
    "IQR = Q3 - Q1\n",
    "print(IQR)"
   ]
  },
  {
   "cell_type": "code",
   "execution_count": 13,
   "id": "6650ef18-bcdd-427f-a057-22c8332a519c",
   "metadata": {},
   "outputs": [
    {
     "data": {
      "text/plain": [
       "-3126.0"
      ]
     },
     "execution_count": 13,
     "metadata": {},
     "output_type": "execute_result"
    }
   ],
   "source": [
    "Q1-1.5* IQR"
   ]
  },
  {
   "cell_type": "code",
   "execution_count": 14,
   "id": "bd568618-dbf1-469c-a160-c701c1f88b6d",
   "metadata": {},
   "outputs": [
    {
     "data": {
      "text/plain": [
       "11626.0"
      ]
     },
     "execution_count": 14,
     "metadata": {},
     "output_type": "execute_result"
    }
   ],
   "source": [
    "Q3+1.5* IQR"
   ]
  },
  {
   "cell_type": "code",
   "execution_count": 15,
   "id": "d68189fd-21b0-4c6d-8132-7184defb10f1",
   "metadata": {},
   "outputs": [
    {
     "data": {
      "text/html": [
       "<div>\n",
       "<style scoped>\n",
       "    .dataframe tbody tr th:only-of-type {\n",
       "        vertical-align: middle;\n",
       "    }\n",
       "\n",
       "    .dataframe tbody tr th {\n",
       "        vertical-align: top;\n",
       "    }\n",
       "\n",
       "    .dataframe thead th {\n",
       "        text-align: right;\n",
       "    }\n",
       "</style>\n",
       "<table border=\"1\" class=\"dataframe\">\n",
       "  <thead>\n",
       "    <tr style=\"text-align: right;\">\n",
       "      <th></th>\n",
       "      <th>id</th>\n",
       "      <th>gender</th>\n",
       "      <th>area</th>\n",
       "      <th>qualification</th>\n",
       "      <th>income</th>\n",
       "      <th>marital_status</th>\n",
       "      <th>vintage</th>\n",
       "      <th>claim_amount</th>\n",
       "      <th>num_policies</th>\n",
       "      <th>policy</th>\n",
       "      <th>type_of_policy</th>\n",
       "      <th>cltv</th>\n",
       "    </tr>\n",
       "  </thead>\n",
       "  <tbody>\n",
       "  </tbody>\n",
       "</table>\n",
       "</div>"
      ],
      "text/plain": [
       "Empty DataFrame\n",
       "Columns: [id, gender, area, qualification, income, marital_status, vintage, claim_amount, num_policies, policy, type_of_policy, cltv]\n",
       "Index: []"
      ]
     },
     "execution_count": 15,
     "metadata": {},
     "output_type": "execute_result"
    }
   ],
   "source": [
    "df[(df['claim_amount']< Q1-1.5* IQR)]"
   ]
  },
  {
   "cell_type": "code",
   "execution_count": 16,
   "id": "b7722299-e20a-4e7b-a7d6-afea852ae414",
   "metadata": {},
   "outputs": [
    {
     "data": {
      "text/html": [
       "<div>\n",
       "<style scoped>\n",
       "    .dataframe tbody tr th:only-of-type {\n",
       "        vertical-align: middle;\n",
       "    }\n",
       "\n",
       "    .dataframe tbody tr th {\n",
       "        vertical-align: top;\n",
       "    }\n",
       "\n",
       "    .dataframe thead th {\n",
       "        text-align: right;\n",
       "    }\n",
       "</style>\n",
       "<table border=\"1\" class=\"dataframe\">\n",
       "  <thead>\n",
       "    <tr style=\"text-align: right;\">\n",
       "      <th></th>\n",
       "      <th>id</th>\n",
       "      <th>gender</th>\n",
       "      <th>area</th>\n",
       "      <th>qualification</th>\n",
       "      <th>income</th>\n",
       "      <th>marital_status</th>\n",
       "      <th>vintage</th>\n",
       "      <th>claim_amount</th>\n",
       "      <th>num_policies</th>\n",
       "      <th>policy</th>\n",
       "      <th>type_of_policy</th>\n",
       "      <th>cltv</th>\n",
       "    </tr>\n",
       "  </thead>\n",
       "  <tbody>\n",
       "    <tr>\n",
       "      <th>47</th>\n",
       "      <td>48</td>\n",
       "      <td>Female</td>\n",
       "      <td>Urban</td>\n",
       "      <td>Bachelor</td>\n",
       "      <td>2L-5L</td>\n",
       "      <td>1</td>\n",
       "      <td>6</td>\n",
       "      <td>16123</td>\n",
       "      <td>More than 1</td>\n",
       "      <td>A</td>\n",
       "      <td>Platinum</td>\n",
       "      <td>72168</td>\n",
       "    </tr>\n",
       "    <tr>\n",
       "      <th>101</th>\n",
       "      <td>102</td>\n",
       "      <td>Male</td>\n",
       "      <td>Urban</td>\n",
       "      <td>Bachelor</td>\n",
       "      <td>5L-10L</td>\n",
       "      <td>0</td>\n",
       "      <td>6</td>\n",
       "      <td>15703</td>\n",
       "      <td>More than 1</td>\n",
       "      <td>B</td>\n",
       "      <td>Platinum</td>\n",
       "      <td>63648</td>\n",
       "    </tr>\n",
       "    <tr>\n",
       "      <th>142</th>\n",
       "      <td>143</td>\n",
       "      <td>Male</td>\n",
       "      <td>Urban</td>\n",
       "      <td>High School</td>\n",
       "      <td>5L-10L</td>\n",
       "      <td>0</td>\n",
       "      <td>6</td>\n",
       "      <td>13304</td>\n",
       "      <td>More than 1</td>\n",
       "      <td>A</td>\n",
       "      <td>Platinum</td>\n",
       "      <td>360924</td>\n",
       "    </tr>\n",
       "    <tr>\n",
       "      <th>168</th>\n",
       "      <td>169</td>\n",
       "      <td>Male</td>\n",
       "      <td>Urban</td>\n",
       "      <td>Bachelor</td>\n",
       "      <td>2L-5L</td>\n",
       "      <td>0</td>\n",
       "      <td>4</td>\n",
       "      <td>12260</td>\n",
       "      <td>More than 1</td>\n",
       "      <td>A</td>\n",
       "      <td>Gold</td>\n",
       "      <td>131616</td>\n",
       "    </tr>\n",
       "    <tr>\n",
       "      <th>193</th>\n",
       "      <td>194</td>\n",
       "      <td>Male</td>\n",
       "      <td>Urban</td>\n",
       "      <td>High School</td>\n",
       "      <td>5L-10L</td>\n",
       "      <td>0</td>\n",
       "      <td>5</td>\n",
       "      <td>15311</td>\n",
       "      <td>1</td>\n",
       "      <td>A</td>\n",
       "      <td>Platinum</td>\n",
       "      <td>34980</td>\n",
       "    </tr>\n",
       "    <tr>\n",
       "      <th>...</th>\n",
       "      <td>...</td>\n",
       "      <td>...</td>\n",
       "      <td>...</td>\n",
       "      <td>...</td>\n",
       "      <td>...</td>\n",
       "      <td>...</td>\n",
       "      <td>...</td>\n",
       "      <td>...</td>\n",
       "      <td>...</td>\n",
       "      <td>...</td>\n",
       "      <td>...</td>\n",
       "      <td>...</td>\n",
       "    </tr>\n",
       "    <tr>\n",
       "      <th>89297</th>\n",
       "      <td>89298</td>\n",
       "      <td>Female</td>\n",
       "      <td>Urban</td>\n",
       "      <td>High School</td>\n",
       "      <td>More than 10L</td>\n",
       "      <td>0</td>\n",
       "      <td>2</td>\n",
       "      <td>12925</td>\n",
       "      <td>More than 1</td>\n",
       "      <td>A</td>\n",
       "      <td>Gold</td>\n",
       "      <td>60384</td>\n",
       "    </tr>\n",
       "    <tr>\n",
       "      <th>89342</th>\n",
       "      <td>89343</td>\n",
       "      <td>Male</td>\n",
       "      <td>Urban</td>\n",
       "      <td>High School</td>\n",
       "      <td>More than 10L</td>\n",
       "      <td>1</td>\n",
       "      <td>1</td>\n",
       "      <td>12159</td>\n",
       "      <td>More than 1</td>\n",
       "      <td>A</td>\n",
       "      <td>Platinum</td>\n",
       "      <td>55608</td>\n",
       "    </tr>\n",
       "    <tr>\n",
       "      <th>89353</th>\n",
       "      <td>89354</td>\n",
       "      <td>Female</td>\n",
       "      <td>Rural</td>\n",
       "      <td>Others</td>\n",
       "      <td>5L-10L</td>\n",
       "      <td>0</td>\n",
       "      <td>3</td>\n",
       "      <td>15361</td>\n",
       "      <td>More than 1</td>\n",
       "      <td>A</td>\n",
       "      <td>Platinum</td>\n",
       "      <td>66432</td>\n",
       "    </tr>\n",
       "    <tr>\n",
       "      <th>89357</th>\n",
       "      <td>89358</td>\n",
       "      <td>Male</td>\n",
       "      <td>Urban</td>\n",
       "      <td>High School</td>\n",
       "      <td>5L-10L</td>\n",
       "      <td>0</td>\n",
       "      <td>6</td>\n",
       "      <td>12911</td>\n",
       "      <td>More than 1</td>\n",
       "      <td>A</td>\n",
       "      <td>Silver</td>\n",
       "      <td>88908</td>\n",
       "    </tr>\n",
       "    <tr>\n",
       "      <th>89371</th>\n",
       "      <td>89372</td>\n",
       "      <td>Male</td>\n",
       "      <td>Urban</td>\n",
       "      <td>Bachelor</td>\n",
       "      <td>5L-10L</td>\n",
       "      <td>1</td>\n",
       "      <td>8</td>\n",
       "      <td>17143</td>\n",
       "      <td>More than 1</td>\n",
       "      <td>A</td>\n",
       "      <td>Platinum</td>\n",
       "      <td>277056</td>\n",
       "    </tr>\n",
       "  </tbody>\n",
       "</table>\n",
       "<p>2258 rows × 12 columns</p>\n",
       "</div>"
      ],
      "text/plain": [
       "          id  gender   area qualification         income  marital_status  \\\n",
       "47        48  Female  Urban      Bachelor          2L-5L               1   \n",
       "101      102    Male  Urban      Bachelor         5L-10L               0   \n",
       "142      143    Male  Urban   High School         5L-10L               0   \n",
       "168      169    Male  Urban      Bachelor          2L-5L               0   \n",
       "193      194    Male  Urban   High School         5L-10L               0   \n",
       "...      ...     ...    ...           ...            ...             ...   \n",
       "89297  89298  Female  Urban   High School  More than 10L               0   \n",
       "89342  89343    Male  Urban   High School  More than 10L               1   \n",
       "89353  89354  Female  Rural        Others         5L-10L               0   \n",
       "89357  89358    Male  Urban   High School         5L-10L               0   \n",
       "89371  89372    Male  Urban      Bachelor         5L-10L               1   \n",
       "\n",
       "       vintage  claim_amount num_policies policy type_of_policy    cltv  \n",
       "47           6         16123  More than 1      A       Platinum   72168  \n",
       "101          6         15703  More than 1      B       Platinum   63648  \n",
       "142          6         13304  More than 1      A       Platinum  360924  \n",
       "168          4         12260  More than 1      A           Gold  131616  \n",
       "193          5         15311            1      A       Platinum   34980  \n",
       "...        ...           ...          ...    ...            ...     ...  \n",
       "89297        2         12925  More than 1      A           Gold   60384  \n",
       "89342        1         12159  More than 1      A       Platinum   55608  \n",
       "89353        3         15361  More than 1      A       Platinum   66432  \n",
       "89357        6         12911  More than 1      A         Silver   88908  \n",
       "89371        8         17143  More than 1      A       Platinum  277056  \n",
       "\n",
       "[2258 rows x 12 columns]"
      ]
     },
     "execution_count": 16,
     "metadata": {},
     "output_type": "execute_result"
    }
   ],
   "source": [
    "df[(df['claim_amount']> Q3+1.5* IQR)]"
   ]
  },
  {
   "cell_type": "code",
   "execution_count": 17,
   "id": "f2aa9150-7213-43b4-a9f5-3eb1438ae9a4",
   "metadata": {},
   "outputs": [
    {
     "data": {
      "image/png": "[encoded data removed]",
      "text/plain": [
       "<Figure size 720x432 with 1 Axes>"
      ]
     },
     "metadata": {},
     "output_type": "display_data"
    }
   ],
   "source": [
    "plt.figure(figsize = (10,6))\n",
    "sns.boxplot(df.cltv)\n",
    "plt.title('cltv',size=18)\n",
    "plt.show()"
   ]
  },
  {
   "cell_type": "code",
   "execution_count": 18,
   "id": "13ef11f6-0a67-424c-a8d8-b025537f74f9",
   "metadata": {},
   "outputs": [
    {
     "name": "stdout",
     "output_type": "stream",
     "text": [
      "50604.0\n"
     ]
    }
   ],
   "source": [
    "Q2 = df['cltv'].quantile(0.25)\n",
    "Q4 = df['cltv'].quantile(0.75)\n",
    "IQR = Q4 - Q2\n",
    "print(IQR)"
   ]
  },
  {
   "cell_type": "code",
   "execution_count": 19,
   "id": "b4553df2-d9b5-4f60-956b-4c8b02de15a1",
   "metadata": {},
   "outputs": [
    {
     "data": {
      "text/plain": [
       "-23070.0"
      ]
     },
     "execution_count": 19,
     "metadata": {},
     "output_type": "execute_result"
    }
   ],
   "source": [
    "Q2-1.5* IQR"
   ]
  },
  {
   "cell_type": "code",
   "execution_count": 20,
   "id": "bf04092a-c6a2-4121-9c7a-1c491160e5da",
   "metadata": {},
   "outputs": [
    {
     "data": {
      "text/plain": [
       "179346.0"
      ]
     },
     "execution_count": 20,
     "metadata": {},
     "output_type": "execute_result"
    }
   ],
   "source": [
    "Q4+1.5* IQR"
   ]
  },
  {
   "cell_type": "code",
   "execution_count": 21,
   "id": "da06d7c9-e1ef-47a7-b517-f8fc580a1eb6",
   "metadata": {},
   "outputs": [
    {
     "data": {
      "text/html": [
       "<div>\n",
       "<style scoped>\n",
       "    .dataframe tbody tr th:only-of-type {\n",
       "        vertical-align: middle;\n",
       "    }\n",
       "\n",
       "    .dataframe tbody tr th {\n",
       "        vertical-align: top;\n",
       "    }\n",
       "\n",
       "    .dataframe thead th {\n",
       "        text-align: right;\n",
       "    }\n",
       "</style>\n",
       "<table border=\"1\" class=\"dataframe\">\n",
       "  <thead>\n",
       "    <tr style=\"text-align: right;\">\n",
       "      <th></th>\n",
       "      <th>id</th>\n",
       "      <th>gender</th>\n",
       "      <th>area</th>\n",
       "      <th>qualification</th>\n",
       "      <th>income</th>\n",
       "      <th>marital_status</th>\n",
       "      <th>vintage</th>\n",
       "      <th>claim_amount</th>\n",
       "      <th>num_policies</th>\n",
       "      <th>policy</th>\n",
       "      <th>type_of_policy</th>\n",
       "      <th>cltv</th>\n",
       "    </tr>\n",
       "  </thead>\n",
       "  <tbody>\n",
       "  </tbody>\n",
       "</table>\n",
       "</div>"
      ],
      "text/plain": [
       "Empty DataFrame\n",
       "Columns: [id, gender, area, qualification, income, marital_status, vintage, claim_amount, num_policies, policy, type_of_policy, cltv]\n",
       "Index: []"
      ]
     },
     "execution_count": 21,
     "metadata": {},
     "output_type": "execute_result"
    }
   ],
   "source": [
    "df[(df['cltv']< Q2-1.5* IQR)]"
   ]
  },
  {
   "cell_type": "code",
   "execution_count": 22,
   "id": "b2268a96-7c4f-43af-a254-20bc31f953eb",
   "metadata": {},
   "outputs": [
    {
     "data": {
      "text/html": [
       "<div>\n",
       "<style scoped>\n",
       "    .dataframe tbody tr th:only-of-type {\n",
       "        vertical-align: middle;\n",
       "    }\n",
       "\n",
       "    .dataframe tbody tr th {\n",
       "        vertical-align: top;\n",
       "    }\n",
       "\n",
       "    .dataframe thead th {\n",
       "        text-align: right;\n",
       "    }\n",
       "</style>\n",
       "<table border=\"1\" class=\"dataframe\">\n",
       "  <thead>\n",
       "    <tr style=\"text-align: right;\">\n",
       "      <th></th>\n",
       "      <th>id</th>\n",
       "      <th>gender</th>\n",
       "      <th>area</th>\n",
       "      <th>qualification</th>\n",
       "      <th>income</th>\n",
       "      <th>marital_status</th>\n",
       "      <th>vintage</th>\n",
       "      <th>claim_amount</th>\n",
       "      <th>num_policies</th>\n",
       "      <th>policy</th>\n",
       "      <th>type_of_policy</th>\n",
       "      <th>cltv</th>\n",
       "    </tr>\n",
       "  </thead>\n",
       "  <tbody>\n",
       "    <tr>\n",
       "      <th>1</th>\n",
       "      <td>2</td>\n",
       "      <td>Male</td>\n",
       "      <td>Rural</td>\n",
       "      <td>High School</td>\n",
       "      <td>5L-10L</td>\n",
       "      <td>0</td>\n",
       "      <td>8</td>\n",
       "      <td>5080</td>\n",
       "      <td>More than 1</td>\n",
       "      <td>A</td>\n",
       "      <td>Platinum</td>\n",
       "      <td>515400</td>\n",
       "    </tr>\n",
       "    <tr>\n",
       "      <th>5</th>\n",
       "      <td>6</td>\n",
       "      <td>Male</td>\n",
       "      <td>Rural</td>\n",
       "      <td>High School</td>\n",
       "      <td>More than 10L</td>\n",
       "      <td>1</td>\n",
       "      <td>1</td>\n",
       "      <td>0</td>\n",
       "      <td>1</td>\n",
       "      <td>C</td>\n",
       "      <td>Gold</td>\n",
       "      <td>348768</td>\n",
       "    </tr>\n",
       "    <tr>\n",
       "      <th>6</th>\n",
       "      <td>7</td>\n",
       "      <td>Female</td>\n",
       "      <td>Rural</td>\n",
       "      <td>Bachelor</td>\n",
       "      <td>5L-10L</td>\n",
       "      <td>1</td>\n",
       "      <td>6</td>\n",
       "      <td>0</td>\n",
       "      <td>More than 1</td>\n",
       "      <td>A</td>\n",
       "      <td>Gold</td>\n",
       "      <td>238920</td>\n",
       "    </tr>\n",
       "    <tr>\n",
       "      <th>23</th>\n",
       "      <td>24</td>\n",
       "      <td>Male</td>\n",
       "      <td>Urban</td>\n",
       "      <td>High School</td>\n",
       "      <td>5L-10L</td>\n",
       "      <td>1</td>\n",
       "      <td>7</td>\n",
       "      <td>2933</td>\n",
       "      <td>More than 1</td>\n",
       "      <td>A</td>\n",
       "      <td>Platinum</td>\n",
       "      <td>265080</td>\n",
       "    </tr>\n",
       "    <tr>\n",
       "      <th>28</th>\n",
       "      <td>29</td>\n",
       "      <td>Female</td>\n",
       "      <td>Urban</td>\n",
       "      <td>High School</td>\n",
       "      <td>5L-10L</td>\n",
       "      <td>0</td>\n",
       "      <td>5</td>\n",
       "      <td>8145</td>\n",
       "      <td>More than 1</td>\n",
       "      <td>A</td>\n",
       "      <td>Silver</td>\n",
       "      <td>262260</td>\n",
       "    </tr>\n",
       "    <tr>\n",
       "      <th>...</th>\n",
       "      <td>...</td>\n",
       "      <td>...</td>\n",
       "      <td>...</td>\n",
       "      <td>...</td>\n",
       "      <td>...</td>\n",
       "      <td>...</td>\n",
       "      <td>...</td>\n",
       "      <td>...</td>\n",
       "      <td>...</td>\n",
       "      <td>...</td>\n",
       "      <td>...</td>\n",
       "      <td>...</td>\n",
       "    </tr>\n",
       "    <tr>\n",
       "      <th>89350</th>\n",
       "      <td>89351</td>\n",
       "      <td>Male</td>\n",
       "      <td>Rural</td>\n",
       "      <td>High School</td>\n",
       "      <td>More than 10L</td>\n",
       "      <td>0</td>\n",
       "      <td>6</td>\n",
       "      <td>0</td>\n",
       "      <td>1</td>\n",
       "      <td>B</td>\n",
       "      <td>Platinum</td>\n",
       "      <td>231672</td>\n",
       "    </tr>\n",
       "    <tr>\n",
       "      <th>89355</th>\n",
       "      <td>89356</td>\n",
       "      <td>Male</td>\n",
       "      <td>Urban</td>\n",
       "      <td>High School</td>\n",
       "      <td>5L-10L</td>\n",
       "      <td>1</td>\n",
       "      <td>3</td>\n",
       "      <td>9577</td>\n",
       "      <td>More than 1</td>\n",
       "      <td>A</td>\n",
       "      <td>Platinum</td>\n",
       "      <td>293256</td>\n",
       "    </tr>\n",
       "    <tr>\n",
       "      <th>89371</th>\n",
       "      <td>89372</td>\n",
       "      <td>Male</td>\n",
       "      <td>Urban</td>\n",
       "      <td>Bachelor</td>\n",
       "      <td>5L-10L</td>\n",
       "      <td>1</td>\n",
       "      <td>8</td>\n",
       "      <td>17143</td>\n",
       "      <td>More than 1</td>\n",
       "      <td>A</td>\n",
       "      <td>Platinum</td>\n",
       "      <td>277056</td>\n",
       "    </tr>\n",
       "    <tr>\n",
       "      <th>89373</th>\n",
       "      <td>89374</td>\n",
       "      <td>Female</td>\n",
       "      <td>Urban</td>\n",
       "      <td>Bachelor</td>\n",
       "      <td>2L-5L</td>\n",
       "      <td>1</td>\n",
       "      <td>8</td>\n",
       "      <td>5365</td>\n",
       "      <td>More than 1</td>\n",
       "      <td>B</td>\n",
       "      <td>Platinum</td>\n",
       "      <td>276348</td>\n",
       "    </tr>\n",
       "    <tr>\n",
       "      <th>89383</th>\n",
       "      <td>89384</td>\n",
       "      <td>Female</td>\n",
       "      <td>Rural</td>\n",
       "      <td>High School</td>\n",
       "      <td>5L-10L</td>\n",
       "      <td>0</td>\n",
       "      <td>8</td>\n",
       "      <td>6664</td>\n",
       "      <td>More than 1</td>\n",
       "      <td>A</td>\n",
       "      <td>Silver</td>\n",
       "      <td>199056</td>\n",
       "    </tr>\n",
       "  </tbody>\n",
       "</table>\n",
       "<p>10223 rows × 12 columns</p>\n",
       "</div>"
      ],
      "text/plain": [
       "          id  gender   area qualification         income  marital_status  \\\n",
       "1          2    Male  Rural   High School         5L-10L               0   \n",
       "5          6    Male  Rural   High School  More than 10L               1   \n",
       "6          7  Female  Rural      Bachelor         5L-10L               1   \n",
       "23        24    Male  Urban   High School         5L-10L               1   \n",
       "28        29  Female  Urban   High School         5L-10L               0   \n",
       "...      ...     ...    ...           ...            ...             ...   \n",
       "89350  89351    Male  Rural   High School  More than 10L               0   \n",
       "89355  89356    Male  Urban   High School         5L-10L               1   \n",
       "89371  89372    Male  Urban      Bachelor         5L-10L               1   \n",
       "89373  89374  Female  Urban      Bachelor          2L-5L               1   \n",
       "89383  89384  Female  Rural   High School         5L-10L               0   \n",
       "\n",
       "       vintage  claim_amount num_policies policy type_of_policy    cltv  \n",
       "1            8          5080  More than 1      A       Platinum  515400  \n",
       "5            1             0            1      C           Gold  348768  \n",
       "6            6             0  More than 1      A           Gold  238920  \n",
       "23           7          2933  More than 1      A       Platinum  265080  \n",
       "28           5          8145  More than 1      A         Silver  262260  \n",
       "...        ...           ...          ...    ...            ...     ...  \n",
       "89350        6             0            1      B       Platinum  231672  \n",
       "89355        3          9577  More than 1      A       Platinum  293256  \n",
       "89371        8         17143  More than 1      A       Platinum  277056  \n",
       "89373        8          5365  More than 1      B       Platinum  276348  \n",
       "89383        8          6664  More than 1      A         Silver  199056  \n",
       "\n",
       "[10223 rows x 12 columns]"
      ]
     },
     "execution_count": 22,
     "metadata": {},
     "output_type": "execute_result"
    }
   ],
   "source": [
    "df[(df['cltv']> Q4+1.5* IQR)]"
   ]
  },
  {
   "cell_type": "markdown",
   "id": "0b4c1e31-07f3-434f-a3d9-ac411938dc82",
   "metadata": {},
   "source": [
    "### Univariate Analysis for Categorical Features"
   ]
  },
  {
   "cell_type": "code",
   "execution_count": 23,
   "id": "6b3ea2db-22c6-49a2-b5a0-d470a788425c",
   "metadata": {},
   "outputs": [
    {
     "data": {
      "image/png": "[encoded data removed]",
      "text/plain": [
       "<Figure size 720x432 with 1 Axes>"
      ]
     },
     "metadata": {},
     "output_type": "display_data"
    }
   ],
   "source": [
    "plt.figure(figsize=(10,6))\n",
    "sns.countplot(x = 'gender', data = df)\n",
    "plt.title('Total Number of Male and Female',size=18)\n",
    "plt.xlabel('Gender',size=16)\n",
    "plt.show()"
   ]
  },
  {
   "cell_type": "code",
   "execution_count": 25,
   "id": "c314cd45-c5af-4f90-ae05-2e6953648d3e",
   "metadata": {},
   "outputs": [
    {
     "data": {
      "image/png": "[encoded data removed]",
      "text/plain": [
       "<Figure size 720x432 with 1 Axes>"
      ]
     },
     "metadata": {},
     "output_type": "display_data"
    }
   ],
   "source": [
    "plt.figure(figsize = (10,6))\n",
    "sns.countplot(df.qualification)\n",
    "plt.title('Qualification',size=18)\n",
    "plt.xlabel('qualification',size=18)\n",
    "plt.ylabel('Count',size=14)\n",
    "plt.show()"
   ]
  },
  {
   "cell_type": "code",
   "execution_count": 32,
   "id": "431456ef-34a8-4a67-8287-e12768373c6c",
   "metadata": {},
   "outputs": [
    {
     "data": {
      "image/png": "[encoded data removed]",
      "text/plain": [
       "<Figure size 600x600 with 1 Axes>"
      ]
     },
     "metadata": {},
     "output_type": "display_data"
    }
   ],
   "source": [
    "plt.figure(figsize = (6,6) , dpi = 100)\n",
    "# plt.scatter, plt.bar, plt.barh, plt.plot\n",
    "plt.pie(df['marital_status'].value_counts().values,\n",
    "        labels = df['marital_status'].value_counts().index,autopct='%1.1f%%')\n",
    "plt.title(\"marital_status of customers\")\n",
    "\n",
    "plt.show()"
   ]
  },
  {
   "cell_type": "markdown",
   "id": "592b6a3c-82ff-4f05-bba4-68a94d07fdd8",
   "metadata": {},
   "source": [
    "#### Majority of the customers are married"
   ]
  },
  {
   "cell_type": "code",
   "execution_count": 31,
   "id": "769c0697-56ec-433f-975c-a29c37502b65",
   "metadata": {},
   "outputs": [
    {
     "data": {
      "image/png": "[encoded data removed]",
      "text/plain": [
       "<Figure size 600x600 with 1 Axes>"
      ]
     },
     "metadata": {},
     "output_type": "display_data"
    }
   ],
   "source": [
    "plt.figure(figsize = (6,6) , dpi = 100)\n",
    "# plt.scatter, plt.bar, plt.barh, plt.plot\n",
    "plt.pie(df['type_of_policy'].value_counts().values,\n",
    "        labels = df['type_of_policy'].value_counts().index,autopct='%1.1f%%')\n",
    "plt.title(\"Distribution of type of policy taken by customers\")\n",
    "\n",
    "plt.show()"
   ]
  },
  {
   "cell_type": "code",
   "execution_count": 35,
   "id": "a1db3a42-d02d-447f-a03f-e9cc66b7167a",
   "metadata": {},
   "outputs": [
    {
     "data": {
      "image/png": "[encoded data removed]",
      "text/plain": [
       "<Figure size 720x432 with 1 Axes>"
      ]
     },
     "metadata": {},
     "output_type": "display_data"
    }
   ],
   "source": [
    "plt.figure(figsize = (10,6))\n",
    "sns.countplot(df.vintage)\n",
    "plt.title('No of years since the first policy date',size=18)\n",
    "plt.xlabel('vintage',size=18)\n",
    "plt.ylabel('Count',size=14)\n",
    "plt.show()"
   ]
  },
  {
   "cell_type": "markdown",
   "id": "0080ae57-2908-4d4e-99fc-6f77df90fd7a",
   "metadata": {},
   "source": [
    "##### Most of the customers have taken policy 6 years ago"
   ]
  },
  {
   "cell_type": "code",
   "execution_count": 92,
   "id": "50e09669-bc61-4e1e-9454-6af3e5597c69",
   "metadata": {},
   "outputs": [
    {
     "data": {
      "text/plain": [
       "<AxesSubplot:xlabel='claim_amount', ylabel='Density'>"
      ]
     },
     "execution_count": 92,
     "metadata": {},
     "output_type": "execute_result"
    },
    {
     "data": {
      "image/png": "[encoded data removed]",
      "text/plain": [
       "<Figure size 432x288 with 1 Axes>"
      ]
     },
     "metadata": {},
     "output_type": "display_data"
    }
   ],
   "source": [
    "sns.distplot(df['claim_amount'])\n"
   ]
  },
  {
   "cell_type": "code",
   "execution_count": null,
   "id": "2b94d90c-ac89-4e82-80da-7f6faf3c4e13",
   "metadata": {},
   "outputs": [],
   "source": [
    "pt=PowerTransformer()"
   ]
  },
  {
   "cell_type": "markdown",
   "id": "70989fce-e4c8-4cfc-b620-5c0809f80b26",
   "metadata": {},
   "source": [
    "### Bivariant Analysis"
   ]
  },
  {
   "cell_type": "code",
   "execution_count": 40,
   "id": "bb2287f6-ef6c-42b5-8687-5341c94856fd",
   "metadata": {},
   "outputs": [
    {
     "data": {
      "image/png": "[encoded data removed]",
      "text/plain": [
       "<Figure size 720x432 with 1 Axes>"
      ]
     },
     "metadata": {},
     "output_type": "display_data"
    }
   ],
   "source": [
    "plt.figure(figsize = (10,6))\n",
    "sns.set_style('darkgrid')\n",
    "sns.scatterplot(x='claim_amount',y='cltv',data=df)\n",
    "plt.title('claim_amount vs cltv',size=18);"
   ]
  },
  {
   "cell_type": "code",
   "execution_count": 8,
   "id": "6333d0dd-2d12-4f59-9893-20661e16e0ee",
   "metadata": {},
   "outputs": [
    {
     "name": "stdout",
     "output_type": "stream",
     "text": [
      "Correlation between claim_amount and cltv is : 0.18\n"
     ]
    }
   ],
   "source": [
    "print('Correlation between claim_amount and cltv is : {}'.format(round(df.corr()['claim_amount']['cltv'],3)))"
   ]
  },
  {
   "cell_type": "code",
   "execution_count": 43,
   "id": "f69cc584-6390-4d56-9643-57584e976882",
   "metadata": {},
   "outputs": [
    {
     "data": {
      "image/png": "[encoded data removed]",
      "text/plain": [
       "<Figure size 1080x720 with 2 Axes>"
      ]
     },
     "metadata": {},
     "output_type": "display_data"
    }
   ],
   "source": [
    "plt.figure(figsize = (15,10))\n",
    "sns.heatmap(df.corr(),annot=True,square=True,\n",
    "            cmap='RdBu',\n",
    "            vmax=1,\n",
    "            vmin=-1)\n",
    "plt.title('Correlations Between Variables',size=18);\n",
    "plt.xticks(size=13)\n",
    "plt.yticks(size=13)\n",
    "plt.show()"
   ]
  },
  {
   "cell_type": "markdown",
   "id": "746f2f61-e2b5-4d52-976f-609969e8f78a",
   "metadata": {},
   "source": [
    "### Method 1: column transformation and Using GridserachCV to find the best model and corresponding params and then fit the model"
   ]
  },
  {
   "cell_type": "code",
   "execution_count": 3,
   "id": "7e7e3a88-a8a6-4657-88f3-e1b012c96385",
   "metadata": {},
   "outputs": [],
   "source": [
    "from sklearn.preprocessing import OrdinalEncoder, OneHotEncoder,StandardScaler\n",
    "from sklearn.compose import ColumnTransformer"
   ]
  },
  {
   "cell_type": "code",
   "execution_count": 4,
   "id": "03265a7a-9053-4cd1-b2db-b1093204d9e2",
   "metadata": {},
   "outputs": [],
   "source": [
    "df.drop('id',axis=1,inplace=True)"
   ]
  },
  {
   "cell_type": "code",
   "execution_count": 85,
   "id": "d01b763a-4f33-45bc-9903-6596021ad2a2",
   "metadata": {},
   "outputs": [
    {
     "data": {
      "text/html": [
       "<div>\n",
       "<style scoped>\n",
       "    .dataframe tbody tr th:only-of-type {\n",
       "        vertical-align: middle;\n",
       "    }\n",
       "\n",
       "    .dataframe tbody tr th {\n",
       "        vertical-align: top;\n",
       "    }\n",
       "\n",
       "    .dataframe thead th {\n",
       "        text-align: right;\n",
       "    }\n",
       "</style>\n",
       "<table border=\"1\" class=\"dataframe\">\n",
       "  <thead>\n",
       "    <tr style=\"text-align: right;\">\n",
       "      <th></th>\n",
       "      <th>gender</th>\n",
       "      <th>area</th>\n",
       "      <th>qualification</th>\n",
       "      <th>income</th>\n",
       "      <th>marital_status</th>\n",
       "      <th>vintage</th>\n",
       "      <th>claim_amount</th>\n",
       "      <th>num_policies</th>\n",
       "      <th>policy</th>\n",
       "      <th>type_of_policy</th>\n",
       "      <th>cltv</th>\n",
       "    </tr>\n",
       "  </thead>\n",
       "  <tbody>\n",
       "    <tr>\n",
       "      <th>0</th>\n",
       "      <td>Male</td>\n",
       "      <td>Urban</td>\n",
       "      <td>Bachelor</td>\n",
       "      <td>5L-10L</td>\n",
       "      <td>1</td>\n",
       "      <td>5</td>\n",
       "      <td>5790</td>\n",
       "      <td>More than 1</td>\n",
       "      <td>A</td>\n",
       "      <td>Platinum</td>\n",
       "      <td>64308</td>\n",
       "    </tr>\n",
       "    <tr>\n",
       "      <th>1</th>\n",
       "      <td>Male</td>\n",
       "      <td>Rural</td>\n",
       "      <td>High School</td>\n",
       "      <td>5L-10L</td>\n",
       "      <td>0</td>\n",
       "      <td>8</td>\n",
       "      <td>5080</td>\n",
       "      <td>More than 1</td>\n",
       "      <td>A</td>\n",
       "      <td>Platinum</td>\n",
       "      <td>515400</td>\n",
       "    </tr>\n",
       "  </tbody>\n",
       "</table>\n",
       "</div>"
      ],
      "text/plain": [
       "  gender   area qualification  income  marital_status  vintage  claim_amount  \\\n",
       "0   Male  Urban      Bachelor  5L-10L               1        5          5790   \n",
       "1   Male  Rural   High School  5L-10L               0        8          5080   \n",
       "\n",
       "  num_policies policy type_of_policy    cltv  \n",
       "0  More than 1      A       Platinum   64308  \n",
       "1  More than 1      A       Platinum  515400  "
      ]
     },
     "execution_count": 85,
     "metadata": {},
     "output_type": "execute_result"
    }
   ],
   "source": [
    "df.head(2)"
   ]
  },
  {
   "cell_type": "code",
   "execution_count": 23,
   "id": "92b5030c-dd43-48d2-9e19-4e8079545fe8",
   "metadata": {},
   "outputs": [
    {
     "data": {
      "text/plain": [
       "Index(['id', 'gender', 'area', 'qualification', 'income', 'marital_status',\n",
       "       'vintage', 'claim_amount', 'num_policies', 'policy', 'type_of_policy',\n",
       "       'cltv'],\n",
       "      dtype='object')"
      ]
     },
     "execution_count": 23,
     "metadata": {},
     "output_type": "execute_result"
    }
   ],
   "source": [
    "df.columns"
   ]
  },
  {
   "cell_type": "code",
   "execution_count": 5,
   "id": "82de4489-3399-47db-ad1e-a33d4c3ccdb1",
   "metadata": {},
   "outputs": [
    {
     "data": {
      "text/html": [
       "<div>\n",
       "<style scoped>\n",
       "    .dataframe tbody tr th:only-of-type {\n",
       "        vertical-align: middle;\n",
       "    }\n",
       "\n",
       "    .dataframe tbody tr th {\n",
       "        vertical-align: top;\n",
       "    }\n",
       "\n",
       "    .dataframe thead th {\n",
       "        text-align: right;\n",
       "    }\n",
       "</style>\n",
       "<table border=\"1\" class=\"dataframe\">\n",
       "  <thead>\n",
       "    <tr style=\"text-align: right;\">\n",
       "      <th></th>\n",
       "      <th>cltv</th>\n",
       "    </tr>\n",
       "  </thead>\n",
       "  <tbody>\n",
       "    <tr>\n",
       "      <th>0</th>\n",
       "      <td>64308</td>\n",
       "    </tr>\n",
       "    <tr>\n",
       "      <th>1</th>\n",
       "      <td>515400</td>\n",
       "    </tr>\n",
       "    <tr>\n",
       "      <th>2</th>\n",
       "      <td>64212</td>\n",
       "    </tr>\n",
       "    <tr>\n",
       "      <th>3</th>\n",
       "      <td>97920</td>\n",
       "    </tr>\n",
       "    <tr>\n",
       "      <th>4</th>\n",
       "      <td>59736</td>\n",
       "    </tr>\n",
       "  </tbody>\n",
       "</table>\n",
       "</div>"
      ],
      "text/plain": [
       "     cltv\n",
       "0   64308\n",
       "1  515400\n",
       "2   64212\n",
       "3   97920\n",
       "4   59736"
      ]
     },
     "execution_count": 5,
     "metadata": {},
     "output_type": "execute_result"
    }
   ],
   "source": [
    "categorical_vars = ['gender','area','qualification','income','marital_status','vintage','claim_amount','num_policies','policy','type_of_policy']\n",
    "numeric_vars = ['cltv']\n",
    "\n",
    "X = df[categorical_vars]\n",
    "#X = df_copy[categorical_vars].copy().reset_index(drop=True)\n",
    "\n",
    "X.head()\n",
    "\n",
    "y = df[numeric_vars]\n",
    "y.head()"
   ]
  },
  {
   "cell_type": "code",
   "execution_count": 6,
   "id": "824ebacd-1e4f-415b-970e-826c4f7b5c70",
   "metadata": {},
   "outputs": [],
   "source": [
    "from sklearn.model_selection import train_test_split\n",
    "X_train,X_test,y_train,y_test=train_test_split(X,y,test_size=0.2,random_state=43)"
   ]
  },
  {
   "cell_type": "code",
   "execution_count": 7,
   "id": "e66b934d-5136-4368-8f53-ee2b4161d8c5",
   "metadata": {},
   "outputs": [],
   "source": [
    "two = ['Others', 'High School', 'Bachelor']\n",
    "three = ['<=2L', '2L-5L', '5L-10L', 'More than 10L']\n",
    "four = [0, 1]\n",
    "five = [0, 1, 2, 3, 4, 5, 6, 7, 8]\n",
    "seven = ['1', 'More than 1']\n",
    "eight = ['C', 'B', 'A']\n",
    "nine = ['Silver', 'Gold', 'Platinum']"
   ]
  },
  {
   "cell_type": "code",
   "execution_count": 8,
   "id": "ca882362-b100-4461-a192-fb23e9d9d759",
   "metadata": {},
   "outputs": [],
   "source": [
    " trf2 = ColumnTransformer([\n",
    "    ('powerT', PowerTransformer(), [6])\n",
    "], remainder='passthrough')\n"
   ]
  },
  {
   "cell_type": "code",
   "execution_count": 9,
   "id": "de03a278-1d7b-49cd-880f-7dcb985ddb00",
   "metadata": {},
   "outputs": [],
   "source": [
    "ct = ColumnTransformer(transformers=[\n",
    "        ('ohe',OneHotEncoder(sparse=False,drop='first'),[1,2]),\n",
    "        ('ore',OrdinalEncoder(handle_unknown='error',categories=[two, three,five, seven, eight, nine]),\n",
    "     [3,4,6,7,8,9])],remainder='passthrough')\n",
    "    "
   ]
  },
  {
   "cell_type": "code",
   "execution_count": 12,
   "id": "725e1469-329d-4684-bd10-133a5efb36f2",
   "metadata": {},
   "outputs": [
    {
     "data": {
      "text/plain": [
       "(71513, 10)"
      ]
     },
     "execution_count": 12,
     "metadata": {},
     "output_type": "execute_result"
    }
   ],
   "source": [
    "X_train.shape"
   ]
  },
  {
   "cell_type": "code",
   "execution_count": 66,
   "id": "f356f51a-9e87-4587-9ac4-63f8c97fb960",
   "metadata": {},
   "outputs": [
    {
     "data": {
      "text/plain": [
       "array([[1.0000e+00, 1.0000e+00, 0.0000e+00, 0.0000e+00, 1.0000e+00,\n",
       "        1.0000e+00, 2.0000e+00, 2.0000e+00, 1.0000e+00, 5.0000e+00,\n",
       "        5.7900e+03, 6.4308e+04],\n",
       "       [1.0000e+00, 0.0000e+00, 0.0000e+00, 0.0000e+00, 0.0000e+00,\n",
       "        1.0000e+00, 2.0000e+00, 2.0000e+00, 0.0000e+00, 8.0000e+00,\n",
       "        5.0800e+03, 5.1540e+05],\n",
       "       [1.0000e+00, 1.0000e+00, 0.0000e+00, 0.0000e+00, 1.0000e+00,\n",
       "        1.0000e+00, 2.0000e+00, 2.0000e+00, 1.0000e+00, 8.0000e+00,\n",
       "        2.5990e+03, 6.4212e+04],\n",
       "       [0.0000e+00, 0.0000e+00, 0.0000e+00, 0.0000e+00, 0.0000e+00,\n",
       "        1.0000e+00, 2.0000e+00, 2.0000e+00, 0.0000e+00, 7.0000e+00,\n",
       "        0.0000e+00, 9.7920e+04],\n",
       "       [1.0000e+00, 1.0000e+00, 0.0000e+00, 0.0000e+00, 0.0000e+00,\n",
       "        1.0000e+00, 1.0000e+00, 3.0000e+00, 1.0000e+00, 6.0000e+00,\n",
       "        3.5080e+03, 5.9736e+04]])"
      ]
     },
     "execution_count": 66,
     "metadata": {},
     "output_type": "execute_result"
    }
   ],
   "source": [
    "ct.fit_transform(df)[0:5]"
   ]
  },
  {
   "cell_type": "code",
   "execution_count": 46,
   "id": "3e9402ae-6268-496d-94d1-1eca08e72394",
   "metadata": {},
   "outputs": [],
   "source": [
    "nm.set_printoptions(threshold=nm.inf)"
   ]
  },
  {
   "cell_type": "code",
   "execution_count": 22,
   "id": "5383b3fa-fd53-4c23-8f8b-64f5631b1e50",
   "metadata": {},
   "outputs": [
    {
     "data": {
      "text/html": [
       "<div>\n",
       "<style scoped>\n",
       "    .dataframe tbody tr th:only-of-type {\n",
       "        vertical-align: middle;\n",
       "    }\n",
       "\n",
       "    .dataframe tbody tr th {\n",
       "        vertical-align: top;\n",
       "    }\n",
       "\n",
       "    .dataframe thead th {\n",
       "        text-align: right;\n",
       "    }\n",
       "</style>\n",
       "<table border=\"1\" class=\"dataframe\">\n",
       "  <thead>\n",
       "    <tr style=\"text-align: right;\">\n",
       "      <th></th>\n",
       "      <th>qualification</th>\n",
       "      <th>num_policies</th>\n",
       "      <th>type_of_policy</th>\n",
       "      <th>income</th>\n",
       "      <th>gender</th>\n",
       "      <th>area</th>\n",
       "      <th>policy</th>\n",
       "      <th>marital_status</th>\n",
       "      <th>vintage</th>\n",
       "      <th>claim_amount</th>\n",
       "    </tr>\n",
       "  </thead>\n",
       "  <tbody>\n",
       "    <tr>\n",
       "      <th>31533</th>\n",
       "      <td>High School</td>\n",
       "      <td>More than 1</td>\n",
       "      <td>Gold</td>\n",
       "      <td>5L-10L</td>\n",
       "      <td>Male</td>\n",
       "      <td>Urban</td>\n",
       "      <td>C</td>\n",
       "      <td>0</td>\n",
       "      <td>4</td>\n",
       "      <td>6853</td>\n",
       "    </tr>\n",
       "    <tr>\n",
       "      <th>75212</th>\n",
       "      <td>High School</td>\n",
       "      <td>1</td>\n",
       "      <td>Silver</td>\n",
       "      <td>More than 10L</td>\n",
       "      <td>Male</td>\n",
       "      <td>Rural</td>\n",
       "      <td>B</td>\n",
       "      <td>0</td>\n",
       "      <td>5</td>\n",
       "      <td>3681</td>\n",
       "    </tr>\n",
       "    <tr>\n",
       "      <th>69510</th>\n",
       "      <td>Bachelor</td>\n",
       "      <td>1</td>\n",
       "      <td>Platinum</td>\n",
       "      <td>5L-10L</td>\n",
       "      <td>Male</td>\n",
       "      <td>Urban</td>\n",
       "      <td>A</td>\n",
       "      <td>0</td>\n",
       "      <td>5</td>\n",
       "      <td>5883</td>\n",
       "    </tr>\n",
       "    <tr>\n",
       "      <th>2076</th>\n",
       "      <td>High School</td>\n",
       "      <td>More than 1</td>\n",
       "      <td>Silver</td>\n",
       "      <td>5L-10L</td>\n",
       "      <td>Female</td>\n",
       "      <td>Rural</td>\n",
       "      <td>A</td>\n",
       "      <td>0</td>\n",
       "      <td>5</td>\n",
       "      <td>0</td>\n",
       "    </tr>\n",
       "    <tr>\n",
       "      <th>83252</th>\n",
       "      <td>Bachelor</td>\n",
       "      <td>More than 1</td>\n",
       "      <td>Silver</td>\n",
       "      <td>More than 10L</td>\n",
       "      <td>Male</td>\n",
       "      <td>Rural</td>\n",
       "      <td>B</td>\n",
       "      <td>1</td>\n",
       "      <td>8</td>\n",
       "      <td>0</td>\n",
       "    </tr>\n",
       "    <tr>\n",
       "      <th>...</th>\n",
       "      <td>...</td>\n",
       "      <td>...</td>\n",
       "      <td>...</td>\n",
       "      <td>...</td>\n",
       "      <td>...</td>\n",
       "      <td>...</td>\n",
       "      <td>...</td>\n",
       "      <td>...</td>\n",
       "      <td>...</td>\n",
       "      <td>...</td>\n",
       "    </tr>\n",
       "    <tr>\n",
       "      <th>57651</th>\n",
       "      <td>Bachelor</td>\n",
       "      <td>More than 1</td>\n",
       "      <td>Platinum</td>\n",
       "      <td>5L-10L</td>\n",
       "      <td>Female</td>\n",
       "      <td>Urban</td>\n",
       "      <td>A</td>\n",
       "      <td>0</td>\n",
       "      <td>7</td>\n",
       "      <td>8008</td>\n",
       "    </tr>\n",
       "    <tr>\n",
       "      <th>83984</th>\n",
       "      <td>High School</td>\n",
       "      <td>1</td>\n",
       "      <td>Silver</td>\n",
       "      <td>5L-10L</td>\n",
       "      <td>Female</td>\n",
       "      <td>Rural</td>\n",
       "      <td>B</td>\n",
       "      <td>1</td>\n",
       "      <td>4</td>\n",
       "      <td>0</td>\n",
       "    </tr>\n",
       "    <tr>\n",
       "      <th>40753</th>\n",
       "      <td>Bachelor</td>\n",
       "      <td>More than 1</td>\n",
       "      <td>Silver</td>\n",
       "      <td>5L-10L</td>\n",
       "      <td>Male</td>\n",
       "      <td>Rural</td>\n",
       "      <td>A</td>\n",
       "      <td>0</td>\n",
       "      <td>7</td>\n",
       "      <td>0</td>\n",
       "    </tr>\n",
       "    <tr>\n",
       "      <th>19776</th>\n",
       "      <td>Bachelor</td>\n",
       "      <td>More than 1</td>\n",
       "      <td>Silver</td>\n",
       "      <td>5L-10L</td>\n",
       "      <td>Female</td>\n",
       "      <td>Urban</td>\n",
       "      <td>A</td>\n",
       "      <td>0</td>\n",
       "      <td>0</td>\n",
       "      <td>5283</td>\n",
       "    </tr>\n",
       "    <tr>\n",
       "      <th>14148</th>\n",
       "      <td>High School</td>\n",
       "      <td>More than 1</td>\n",
       "      <td>Platinum</td>\n",
       "      <td>5L-10L</td>\n",
       "      <td>Male</td>\n",
       "      <td>Rural</td>\n",
       "      <td>A</td>\n",
       "      <td>1</td>\n",
       "      <td>6</td>\n",
       "      <td>3052</td>\n",
       "    </tr>\n",
       "  </tbody>\n",
       "</table>\n",
       "<p>71513 rows × 10 columns</p>\n",
       "</div>"
      ],
      "text/plain": [
       "      qualification num_policies type_of_policy         income  gender   area  \\\n",
       "31533   High School  More than 1           Gold         5L-10L    Male  Urban   \n",
       "75212   High School            1         Silver  More than 10L    Male  Rural   \n",
       "69510      Bachelor            1       Platinum         5L-10L    Male  Urban   \n",
       "2076    High School  More than 1         Silver         5L-10L  Female  Rural   \n",
       "83252      Bachelor  More than 1         Silver  More than 10L    Male  Rural   \n",
       "...             ...          ...            ...            ...     ...    ...   \n",
       "57651      Bachelor  More than 1       Platinum         5L-10L  Female  Urban   \n",
       "83984   High School            1         Silver         5L-10L  Female  Rural   \n",
       "40753      Bachelor  More than 1         Silver         5L-10L    Male  Rural   \n",
       "19776      Bachelor  More than 1         Silver         5L-10L  Female  Urban   \n",
       "14148   High School  More than 1       Platinum         5L-10L    Male  Rural   \n",
       "\n",
       "      policy  marital_status  vintage  claim_amount  \n",
       "31533      C               0        4          6853  \n",
       "75212      B               0        5          3681  \n",
       "69510      A               0        5          5883  \n",
       "2076       A               0        5             0  \n",
       "83252      B               1        8             0  \n",
       "...      ...             ...      ...           ...  \n",
       "57651      A               0        7          8008  \n",
       "83984      B               1        4             0  \n",
       "40753      A               0        7             0  \n",
       "19776      A               0        0          5283  \n",
       "14148      A               1        6          3052  \n",
       "\n",
       "[71513 rows x 10 columns]"
      ]
     },
     "execution_count": 22,
     "metadata": {},
     "output_type": "execute_result"
    }
   ],
   "source": [
    "X_train"
   ]
  },
  {
   "cell_type": "code",
   "execution_count": 130,
   "id": "ade24b88-9286-489e-aea2-2297c12b7b6a",
   "metadata": {},
   "outputs": [
    {
     "data": {
      "text/plain": [
       "(17879, 11)"
      ]
     },
     "execution_count": 130,
     "metadata": {},
     "output_type": "execute_result"
    }
   ],
   "source": [
    "ct.transform(X_test).shape"
   ]
  },
  {
   "cell_type": "code",
   "execution_count": 132,
   "id": "6eb216f2-a5ee-44f1-9edf-4548223d20bf",
   "metadata": {},
   "outputs": [
    {
     "data": {
      "text/html": [
       "<div>\n",
       "<style scoped>\n",
       "    .dataframe tbody tr th:only-of-type {\n",
       "        vertical-align: middle;\n",
       "    }\n",
       "\n",
       "    .dataframe tbody tr th {\n",
       "        vertical-align: top;\n",
       "    }\n",
       "\n",
       "    .dataframe thead th {\n",
       "        text-align: right;\n",
       "    }\n",
       "</style>\n",
       "<table border=\"1\" class=\"dataframe\">\n",
       "  <thead>\n",
       "    <tr style=\"text-align: right;\">\n",
       "      <th></th>\n",
       "      <th>qualification</th>\n",
       "      <th>num_policies</th>\n",
       "      <th>type_of_policy</th>\n",
       "      <th>income</th>\n",
       "      <th>gender</th>\n",
       "      <th>area</th>\n",
       "      <th>policyC</th>\n",
       "      <th>policyB</th>\n",
       "      <th>marital_status</th>\n",
       "      <th>vintage</th>\n",
       "      <th>claim_amount</th>\n",
       "    </tr>\n",
       "  </thead>\n",
       "  <tbody>\n",
       "    <tr>\n",
       "      <th>0</th>\n",
       "      <td>0.0</td>\n",
       "      <td>1.0</td>\n",
       "      <td>1.0</td>\n",
       "      <td>2.0</td>\n",
       "      <td>1.0</td>\n",
       "      <td>1.0</td>\n",
       "      <td>0.0</td>\n",
       "      <td>1.0</td>\n",
       "      <td>0.0</td>\n",
       "      <td>4.0</td>\n",
       "      <td>6853.0</td>\n",
       "    </tr>\n",
       "    <tr>\n",
       "      <th>1</th>\n",
       "      <td>0.0</td>\n",
       "      <td>0.0</td>\n",
       "      <td>0.0</td>\n",
       "      <td>3.0</td>\n",
       "      <td>1.0</td>\n",
       "      <td>0.0</td>\n",
       "      <td>1.0</td>\n",
       "      <td>0.0</td>\n",
       "      <td>0.0</td>\n",
       "      <td>5.0</td>\n",
       "      <td>3681.0</td>\n",
       "    </tr>\n",
       "    <tr>\n",
       "      <th>2</th>\n",
       "      <td>1.0</td>\n",
       "      <td>0.0</td>\n",
       "      <td>2.0</td>\n",
       "      <td>2.0</td>\n",
       "      <td>1.0</td>\n",
       "      <td>1.0</td>\n",
       "      <td>0.0</td>\n",
       "      <td>0.0</td>\n",
       "      <td>0.0</td>\n",
       "      <td>5.0</td>\n",
       "      <td>5883.0</td>\n",
       "    </tr>\n",
       "    <tr>\n",
       "      <th>3</th>\n",
       "      <td>0.0</td>\n",
       "      <td>1.0</td>\n",
       "      <td>0.0</td>\n",
       "      <td>2.0</td>\n",
       "      <td>0.0</td>\n",
       "      <td>0.0</td>\n",
       "      <td>0.0</td>\n",
       "      <td>0.0</td>\n",
       "      <td>0.0</td>\n",
       "      <td>5.0</td>\n",
       "      <td>0.0</td>\n",
       "    </tr>\n",
       "    <tr>\n",
       "      <th>4</th>\n",
       "      <td>1.0</td>\n",
       "      <td>1.0</td>\n",
       "      <td>0.0</td>\n",
       "      <td>3.0</td>\n",
       "      <td>1.0</td>\n",
       "      <td>0.0</td>\n",
       "      <td>1.0</td>\n",
       "      <td>0.0</td>\n",
       "      <td>1.0</td>\n",
       "      <td>8.0</td>\n",
       "      <td>0.0</td>\n",
       "    </tr>\n",
       "    <tr>\n",
       "      <th>...</th>\n",
       "      <td>...</td>\n",
       "      <td>...</td>\n",
       "      <td>...</td>\n",
       "      <td>...</td>\n",
       "      <td>...</td>\n",
       "      <td>...</td>\n",
       "      <td>...</td>\n",
       "      <td>...</td>\n",
       "      <td>...</td>\n",
       "      <td>...</td>\n",
       "      <td>...</td>\n",
       "    </tr>\n",
       "    <tr>\n",
       "      <th>71508</th>\n",
       "      <td>1.0</td>\n",
       "      <td>1.0</td>\n",
       "      <td>2.0</td>\n",
       "      <td>2.0</td>\n",
       "      <td>0.0</td>\n",
       "      <td>1.0</td>\n",
       "      <td>0.0</td>\n",
       "      <td>0.0</td>\n",
       "      <td>0.0</td>\n",
       "      <td>7.0</td>\n",
       "      <td>8008.0</td>\n",
       "    </tr>\n",
       "    <tr>\n",
       "      <th>71509</th>\n",
       "      <td>0.0</td>\n",
       "      <td>0.0</td>\n",
       "      <td>0.0</td>\n",
       "      <td>2.0</td>\n",
       "      <td>0.0</td>\n",
       "      <td>0.0</td>\n",
       "      <td>1.0</td>\n",
       "      <td>0.0</td>\n",
       "      <td>1.0</td>\n",
       "      <td>4.0</td>\n",
       "      <td>0.0</td>\n",
       "    </tr>\n",
       "    <tr>\n",
       "      <th>71510</th>\n",
       "      <td>1.0</td>\n",
       "      <td>1.0</td>\n",
       "      <td>0.0</td>\n",
       "      <td>2.0</td>\n",
       "      <td>1.0</td>\n",
       "      <td>0.0</td>\n",
       "      <td>0.0</td>\n",
       "      <td>0.0</td>\n",
       "      <td>0.0</td>\n",
       "      <td>7.0</td>\n",
       "      <td>0.0</td>\n",
       "    </tr>\n",
       "    <tr>\n",
       "      <th>71511</th>\n",
       "      <td>1.0</td>\n",
       "      <td>1.0</td>\n",
       "      <td>0.0</td>\n",
       "      <td>2.0</td>\n",
       "      <td>0.0</td>\n",
       "      <td>1.0</td>\n",
       "      <td>0.0</td>\n",
       "      <td>0.0</td>\n",
       "      <td>0.0</td>\n",
       "      <td>0.0</td>\n",
       "      <td>5283.0</td>\n",
       "    </tr>\n",
       "    <tr>\n",
       "      <th>71512</th>\n",
       "      <td>0.0</td>\n",
       "      <td>1.0</td>\n",
       "      <td>2.0</td>\n",
       "      <td>2.0</td>\n",
       "      <td>1.0</td>\n",
       "      <td>0.0</td>\n",
       "      <td>0.0</td>\n",
       "      <td>0.0</td>\n",
       "      <td>1.0</td>\n",
       "      <td>6.0</td>\n",
       "      <td>3052.0</td>\n",
       "    </tr>\n",
       "  </tbody>\n",
       "</table>\n",
       "<p>71513 rows × 11 columns</p>\n",
       "</div>"
      ],
      "text/plain": [
       "       qualification  num_policies  type_of_policy  income  gender  area  \\\n",
       "0                0.0           1.0             1.0     2.0     1.0   1.0   \n",
       "1                0.0           0.0             0.0     3.0     1.0   0.0   \n",
       "2                1.0           0.0             2.0     2.0     1.0   1.0   \n",
       "3                0.0           1.0             0.0     2.0     0.0   0.0   \n",
       "4                1.0           1.0             0.0     3.0     1.0   0.0   \n",
       "...              ...           ...             ...     ...     ...   ...   \n",
       "71508            1.0           1.0             2.0     2.0     0.0   1.0   \n",
       "71509            0.0           0.0             0.0     2.0     0.0   0.0   \n",
       "71510            1.0           1.0             0.0     2.0     1.0   0.0   \n",
       "71511            1.0           1.0             0.0     2.0     0.0   1.0   \n",
       "71512            0.0           1.0             2.0     2.0     1.0   0.0   \n",
       "\n",
       "       policyC  policyB  marital_status  vintage  claim_amount  \n",
       "0          0.0      1.0             0.0      4.0        6853.0  \n",
       "1          1.0      0.0             0.0      5.0        3681.0  \n",
       "2          0.0      0.0             0.0      5.0        5883.0  \n",
       "3          0.0      0.0             0.0      5.0           0.0  \n",
       "4          1.0      0.0             1.0      8.0           0.0  \n",
       "...        ...      ...             ...      ...           ...  \n",
       "71508      0.0      0.0             0.0      7.0        8008.0  \n",
       "71509      1.0      0.0             1.0      4.0           0.0  \n",
       "71510      0.0      0.0             0.0      7.0           0.0  \n",
       "71511      0.0      0.0             0.0      0.0        5283.0  \n",
       "71512      0.0      0.0             1.0      6.0        3052.0  \n",
       "\n",
       "[71513 rows x 11 columns]"
      ]
     },
     "execution_count": 132,
     "metadata": {},
     "output_type": "execute_result"
    }
   ],
   "source": [
    "df2_train"
   ]
  },
  {
   "cell_type": "code",
   "execution_count": 109,
   "id": "4a620401-0c03-4a72-b08b-0a316729a2ff",
   "metadata": {},
   "outputs": [
    {
     "data": {
      "text/plain": [
       "<AxesSubplot:ylabel='Density'>"
      ]
     },
     "execution_count": 109,
     "metadata": {},
     "output_type": "execute_result"
    },
    {
     "data": {
      "image/png": "[encoded data removed]",
      "text/plain": [
       "<Figure size 432x288 with 1 Axes>"
      ]
     },
     "metadata": {},
     "output_type": "display_data"
    }
   ],
   "source": [
    "sns.distplot(df3_train)"
   ]
  },
  {
   "cell_type": "code",
   "execution_count": 133,
   "id": "41bd8ccf-3670-4e49-a488-6b80c3bc405c",
   "metadata": {},
   "outputs": [],
   "source": [
    "df2_test = pd.DataFrame(ct.transform(X_test), columns =['qualification','num_policies','type_of_policy',\n",
    "                                                        'income','gender','area','policyC','policyB',\n",
    "                                                        'marital_status','vintage','claim_amount'])"
   ]
  },
  {
   "cell_type": "code",
   "execution_count": 134,
   "id": "56c31367-44c5-4fa0-a725-50660a8809ff",
   "metadata": {},
   "outputs": [
    {
     "data": {
      "text/html": [
       "<div>\n",
       "<style scoped>\n",
       "    .dataframe tbody tr th:only-of-type {\n",
       "        vertical-align: middle;\n",
       "    }\n",
       "\n",
       "    .dataframe tbody tr th {\n",
       "        vertical-align: top;\n",
       "    }\n",
       "\n",
       "    .dataframe thead th {\n",
       "        text-align: right;\n",
       "    }\n",
       "</style>\n",
       "<table border=\"1\" class=\"dataframe\">\n",
       "  <thead>\n",
       "    <tr style=\"text-align: right;\">\n",
       "      <th></th>\n",
       "      <th>Feature</th>\n",
       "      <th>Score</th>\n",
       "    </tr>\n",
       "  </thead>\n",
       "  <tbody>\n",
       "    <tr>\n",
       "      <th>0</th>\n",
       "      <td>qualification</td>\n",
       "      <td>60.895492</td>\n",
       "    </tr>\n",
       "    <tr>\n",
       "      <th>1</th>\n",
       "      <td>num_policies</td>\n",
       "      <td>10695.681032</td>\n",
       "    </tr>\n",
       "    <tr>\n",
       "      <th>2</th>\n",
       "      <td>type_of_policy</td>\n",
       "      <td>55.304988</td>\n",
       "    </tr>\n",
       "    <tr>\n",
       "      <th>3</th>\n",
       "      <td>income</td>\n",
       "      <td>410.034292</td>\n",
       "    </tr>\n",
       "    <tr>\n",
       "      <th>4</th>\n",
       "      <td>gender</td>\n",
       "      <td>0.279032</td>\n",
       "    </tr>\n",
       "    <tr>\n",
       "      <th>5</th>\n",
       "      <td>area</td>\n",
       "      <td>1328.018537</td>\n",
       "    </tr>\n",
       "    <tr>\n",
       "      <th>6</th>\n",
       "      <td>policyC</td>\n",
       "      <td>229.637810</td>\n",
       "    </tr>\n",
       "    <tr>\n",
       "      <th>7</th>\n",
       "      <td>policyB</td>\n",
       "      <td>79.171258</td>\n",
       "    </tr>\n",
       "    <tr>\n",
       "      <th>8</th>\n",
       "      <td>marital_status</td>\n",
       "      <td>432.934210</td>\n",
       "    </tr>\n",
       "    <tr>\n",
       "      <th>9</th>\n",
       "      <td>vintage</td>\n",
       "      <td>29.102652</td>\n",
       "    </tr>\n",
       "    <tr>\n",
       "      <th>10</th>\n",
       "      <td>claim_amount</td>\n",
       "      <td>2436.344813</td>\n",
       "    </tr>\n",
       "  </tbody>\n",
       "</table>\n",
       "</div>"
      ],
      "text/plain": [
       "           Feature         Score\n",
       "0    qualification     60.895492\n",
       "1     num_policies  10695.681032\n",
       "2   type_of_policy     55.304988\n",
       "3           income    410.034292\n",
       "4           gender      0.279032\n",
       "5             area   1328.018537\n",
       "6          policyC    229.637810\n",
       "7          policyB     79.171258\n",
       "8   marital_status    432.934210\n",
       "9          vintage     29.102652\n",
       "10    claim_amount   2436.344813"
      ]
     },
     "execution_count": 134,
     "metadata": {},
     "output_type": "execute_result"
    }
   ],
   "source": [
    "from sklearn.feature_selection import SelectKBest\n",
    "from sklearn.feature_selection import chi2, f_regression\n",
    "from numpy import array \n",
    "select = SelectKBest(score_func=f_regression, k=8)\n",
    "z = select.fit(df2_train, y_train)\n",
    "dfscores=pd.DataFrame(z.scores_)\n",
    "dfcolumns=pd.DataFrame(df2_train.columns)\n",
    "feature_scores=pd.concat([dfcolumns,dfscores],axis=1)\n",
    "feature_scores.columns=['Feature','Score']\n",
    "feature_scores"
   ]
  },
  {
   "cell_type": "code",
   "execution_count": 25,
   "id": "182b0be3-f496-4c8d-9d07-49f7bae40946",
   "metadata": {},
   "outputs": [
    {
     "name": "stdout",
     "output_type": "stream",
     "text": [
      "Requirement already satisfied: lightgbm in c:\\users\\prana\\anaconda3\\lib\\site-packages (3.3.5)\n",
      "Requirement already satisfied: numpy in c:\\users\\prana\\anaconda3\\lib\\site-packages (from lightgbm) (1.21.5)\n",
      "Requirement already satisfied: wheel in c:\\users\\prana\\anaconda3\\lib\\site-packages (from lightgbm) (0.37.1)\n",
      "Requirement already satisfied: scipy in c:\\users\\prana\\anaconda3\\lib\\site-packages (from lightgbm) (1.7.3)\n",
      "Requirement already satisfied: scikit-learn!=0.22.0 in c:\\users\\prana\\anaconda3\\lib\\site-packages (from lightgbm) (1.1.2)\n",
      "Requirement already satisfied: threadpoolctl>=2.0.0 in c:\\users\\prana\\anaconda3\\lib\\site-packages (from scikit-learn!=0.22.0->lightgbm) (2.2.0)\n",
      "Requirement already satisfied: joblib>=1.0.0 in c:\\users\\prana\\anaconda3\\lib\\site-packages (from scikit-learn!=0.22.0->lightgbm) (1.1.0)\n",
      "Note: you may need to restart the kernel to use updated packages.\n"
     ]
    }
   ],
   "source": [
    "pip install lightgbm"
   ]
  },
  {
   "cell_type": "code",
   "execution_count": 13,
   "id": "c183c857-2344-4c4d-b352-af57e9064371",
   "metadata": {},
   "outputs": [],
   "source": [
    "from sklearn.ensemble import RandomForestRegressor,GradientBoostingRegressor\n",
    "from sklearn.linear_model import LinearRegression\n",
    "from sklearn.tree import DecisionTreeRegressor\n",
    "from xgboost import XGBRegressor\n",
    "from lightgbm import LGBMRegressor\n",
    "from sklearn.model_selection import GridSearchCV\n",
    "from sklearn.pipeline import Pipeline\n",
    "from sklearn.metrics import make_scorer, mean_squared_error"
   ]
  },
  {
   "cell_type": "code",
   "execution_count": 14,
   "id": "fcd889e2-ae3d-48be-be23-00e1b2647985",
   "metadata": {},
   "outputs": [],
   "source": [
    "# Initialze the estimators\n",
    "clf1 = RandomForestRegressor(random_state=42)\n",
    "clf2 = XGBRegressor(random_state=42)\n",
    "clf3 = GradientBoostingRegressor(random_state=42)\n",
    "clf4 = DecisionTreeRegressor(random_state=42)\n",
    "clf5 = LGBMRegressor(random_state=42)"
   ]
  },
  {
   "cell_type": "code",
   "execution_count": 15,
   "id": "351b1b93-a693-4ce8-9e52-cacedb4695e9",
   "metadata": {},
   "outputs": [],
   "source": [
    "# Initiaze the hyperparameters for each dictionary\n",
    "param1 = {}\n",
    "param1['regressor__n_estimators'] = [10,100,1000]\n",
    "param1['regressor__max_depth'] = [5, 10, 20]\n",
    "param1['regressor__min_samples_leaf'] = [2,5,10]\n",
    "param1['regressor__max_leaf_nodes'] = [2,5,10]\n",
    "param1['regressor'] = [clf1]\n",
    "\n",
    "param2 = {}\n",
    "param2['regressor__n_estimators'] = [10, 100,1000]\n",
    "param2['regressor__max_depth'] = [5, 10, 20]\n",
    "param2['regressor__min_child_weight'] = [1,5,10]\n",
    "param2['regressor__gamma'] = [0.5, 1, 1.5, 2, 5]\n",
    "param2['regressor__colsample_bytree']= [0.6, 0.8, 1.0]\n",
    "param2['regressor__learning_rate'] = [0.1,0.5,0.8]\n",
    "param2['regressor'] = [clf2]\n",
    "\n",
    "param3 = {}\n",
    "param3['regressor__n_estimators'] = [10,100,1000]\n",
    "param3['regressor__max_depth'] = [5, 10, 20]\n",
    "param3['regressor__learning_rate'] = [0.1,0.5,0.8]\n",
    "param3['regressor'] = [clf3]\n",
    "\n",
    "param4 = {}\n",
    "param4['regressor__max_depth'] = [5,10,20]\n",
    "param4['regressor__min_samples_split'] = [2,5,10]\n",
    "param4['regressor__min_samples_leaf'] = [2,5,10]\n",
    "param4['regressor__max_leaf_nodes'] = [2,5,10]\n",
    "param4['regressor'] = [clf4]\n",
    "\n",
    "param5 = {}\n",
    "param5['regressor__n_estimators'] = [10, 100,1000]\n",
    "param5['regressor__max_depth'] = [5, 10, 20]\n",
    "param5['regressor__min_child_weight'] = [1,5,10]\n",
    "param5['regressor__colsample_bytree']= [0.6, 0.8, 1.0]\n",
    "param5['regressor__learning_rate'] = [0.1,0.5,0.8]\n",
    "param5['regressor'] = [clf5]\n"
   ]
  },
  {
   "cell_type": "code",
   "execution_count": 22,
   "id": "bf219680-035d-4278-af44-6eb28af4cbf6",
   "metadata": {},
   "outputs": [],
   "source": [
    "pipeline = Pipeline([('regressor', clf1)])\n",
    "params = [param1,param2,param3,param4,param5]"
   ]
  },
  {
   "cell_type": "code",
   "execution_count": null,
   "id": "66684faf-804e-4ab3-9350-fced344878a4",
   "metadata": {},
   "outputs": [],
   "source": [
    "# Train the grid search model\n",
    "gs = GridSearchCV(pipeline, params, cv=3, n_jobs=-1, verbose=1)"
   ]
  },
  {
   "cell_type": "code",
   "execution_count": 1,
   "id": "4419d2ed-3027-4174-af5c-7a78e07603e9",
   "metadata": {},
   "outputs": [],
   "source": [
    "## Fitting all the 5 models on huge train dataset was taking lot of time and memory hence took 2-3 models at a time and found their best params"
   ]
  },
  {
   "cell_type": "code",
   "execution_count": null,
   "id": "8ce45f80-c546-49cb-b38a-95644432c816",
   "metadata": {},
   "outputs": [],
   "source": [
    "pipeline1 = Pipeline([('regressor', clf5)])\n",
    "params1 = [param5]"
   ]
  },
  {
   "cell_type": "code",
   "execution_count": null,
   "id": "6c5353f7-7c95-422d-8a92-c29be4f76f93",
   "metadata": {},
   "outputs": [
    {
     "name": "stdout",
     "output_type": "stream",
     "text": [
      "Fitting 3 folds for each of 972 candidates, totalling 2916 fits\n"
     ]
    },
    {
     "data": {
      "text/html": [
       "<style>#sk-container-id-5 {color: black;background-color: white;}#sk-container-id-5 pre{padding: 0;}#sk-container-id-5 div.sk-toggleable {background-color: white;}#sk-container-id-5 label.sk-toggleable__label {cursor: pointer;display: block;width: 100%;margin-bottom: 0;padding: 0.3em;box-sizing: border-box;text-align: center;}#sk-container-id-5 label.sk-toggleable__label-arrow:before {content: \"▸\";float: left;margin-right: 0.25em;color: #696969;}#sk-container-id-5 label.sk-toggleable__label-arrow:hover:before {color: black;}#sk-container-id-5 div.sk-estimator:hover label.sk-toggleable__label-arrow:before {color: black;}#sk-container-id-5 div.sk-toggleable__content {max-height: 0;max-width: 0;overflow: hidden;text-align: left;background-color: #f0f8ff;}#sk-container-id-5 div.sk-toggleable__content pre {margin: 0.2em;color: black;border-radius: 0.25em;background-color: #f0f8ff;}#sk-container-id-5 input.sk-toggleable__control:checked~div.sk-toggleable__content {max-height: 200px;max-width: 100%;overflow: auto;}#sk-container-id-5 input.sk-toggleable__control:checked~label.sk-toggleable__label-arrow:before {content: \"▾\";}#sk-container-id-5 div.sk-estimator input.sk-toggleable__control:checked~label.sk-toggleable__label {background-color: #d4ebff;}#sk-container-id-5 div.sk-label input.sk-toggleable__control:checked~label.sk-toggleable__label {background-color: #d4ebff;}#sk-container-id-5 input.sk-hidden--visually {border: 0;clip: rect(1px 1px 1px 1px);clip: rect(1px, 1px, 1px, 1px);height: 1px;margin: -1px;overflow: hidden;padding: 0;position: absolute;width: 1px;}#sk-container-id-5 div.sk-estimator {font-family: monospace;background-color: #f0f8ff;border: 1px dotted black;border-radius: 0.25em;box-sizing: border-box;margin-bottom: 0.5em;}#sk-container-id-5 div.sk-estimator:hover {background-color: #d4ebff;}#sk-container-id-5 div.sk-parallel-item::after {content: \"\";width: 100%;border-bottom: 1px solid gray;flex-grow: 1;}#sk-container-id-5 div.sk-label:hover label.sk-toggleable__label {background-color: #d4ebff;}#sk-container-id-5 div.sk-serial::before {content: \"\";position: absolute;border-left: 1px solid gray;box-sizing: border-box;top: 0;bottom: 0;left: 50%;z-index: 0;}#sk-container-id-5 div.sk-serial {display: flex;flex-direction: column;align-items: center;background-color: white;padding-right: 0.2em;padding-left: 0.2em;position: relative;}#sk-container-id-5 div.sk-item {position: relative;z-index: 1;}#sk-container-id-5 div.sk-parallel {display: flex;align-items: stretch;justify-content: center;background-color: white;position: relative;}#sk-container-id-5 div.sk-item::before, #sk-container-id-5 div.sk-parallel-item::before {content: \"\";position: absolute;border-left: 1px solid gray;box-sizing: border-box;top: 0;bottom: 0;left: 50%;z-index: -1;}#sk-container-id-5 div.sk-parallel-item {display: flex;flex-direction: column;z-index: 1;position: relative;background-color: white;}#sk-container-id-5 div.sk-parallel-item:first-child::after {align-self: flex-end;width: 50%;}#sk-container-id-5 div.sk-parallel-item:last-child::after {align-self: flex-start;width: 50%;}#sk-container-id-5 div.sk-parallel-item:only-child::after {width: 0;}#sk-container-id-5 div.sk-dashed-wrapped {border: 1px dashed gray;margin: 0 0.4em 0.5em 0.4em;box-sizing: border-box;padding-bottom: 0.4em;background-color: white;}#sk-container-id-5 div.sk-label label {font-family: monospace;font-weight: bold;display: inline-block;line-height: 1.2em;}#sk-container-id-5 div.sk-label-container {text-align: center;}#sk-container-id-5 div.sk-container {/* jupyter's `normalize.less` sets `[hidden] { display: none; }` but bootstrap.min.css set `[hidden] { display: none !important; }` so we also need the `!important` here to be able to override the default hidden behavior on the sphinx rendered scikit-learn.org. See: https://github.com/scikit-learn/scikit-learn/issues/21755 */display: inline-block !important;position: relative;}#sk-container-id-5 div.sk-text-repr-fallback {display: none;}</style><div id=\"sk-container-id-5\" class=\"sk-top-container\"><div class=\"sk-text-repr-fallback\"><pre>GridSearchCV(cv=3,\n",
       "             estimator=Pipeline(steps=[(&#x27;regressor&#x27;,\n",
       "                                        GradientBoostingRegressor(learning_rate=0.5,\n",
       "                                                                  max_depth=5,\n",
       "                                                                  max_leaf_nodes=5,\n",
       "                                                                  min_samples_leaf=10,\n",
       "                                                                  n_estimators=10,\n",
       "                                                                  random_state=42))]),\n",
       "             n_jobs=-1,\n",
       "             param_grid=[{&#x27;regressor&#x27;: [GradientBoostingRegressor(learning_rate=0.5,\n",
       "                                                                  max_depth=5,\n",
       "                                                                  max_leaf_nodes=5,\n",
       "                                                                  min_samples_leaf=10,\n",
       "                                                                  n_estimators=10,\n",
       "                                                                  random_state=42)],\n",
       "                          &#x27;regressor__learning_rate&#x27;: [0.1, 0.5, 0.8],\n",
       "                          &#x27;regressor__max_depth&#x27;: [5, 10, 20],\n",
       "                          &#x27;regressor__max_leaf_nodes&#x27;: [2, 5, 10],\n",
       "                          &#x27;regressor__min_samples_leaf&#x27;: [2, 5, 10],\n",
       "                          &#x27;regressor__min_samples_split&#x27;: [2, 5, 10],\n",
       "                          &#x27;regressor__n_estimators&#x27;: [2, 5, 10, 15]}],\n",
       "             verbose=3)</pre><b>In a Jupyter environment, please rerun this cell to show the HTML representation or trust the notebook. <br />On GitHub, the HTML representation is unable to render, please try loading this page with nbviewer.org.</b></div><div class=\"sk-container\" hidden><div class=\"sk-item sk-dashed-wrapped\"><div class=\"sk-label-container\"><div class=\"sk-label sk-toggleable\"><input class=\"sk-toggleable__control sk-hidden--visually\" id=\"sk-estimator-id-10\" type=\"checkbox\" ><label for=\"sk-estimator-id-10\" class=\"sk-toggleable__label sk-toggleable__label-arrow\">GridSearchCV</label><div class=\"sk-toggleable__content\"><pre>GridSearchCV(cv=3,\n",
       "             estimator=Pipeline(steps=[(&#x27;regressor&#x27;,\n",
       "                                        GradientBoostingRegressor(learning_rate=0.5,\n",
       "                                                                  max_depth=5,\n",
       "                                                                  max_leaf_nodes=5,\n",
       "                                                                  min_samples_leaf=10,\n",
       "                                                                  n_estimators=10,\n",
       "                                                                  random_state=42))]),\n",
       "             n_jobs=-1,\n",
       "             param_grid=[{&#x27;regressor&#x27;: [GradientBoostingRegressor(learning_rate=0.5,\n",
       "                                                                  max_depth=5,\n",
       "                                                                  max_leaf_nodes=5,\n",
       "                                                                  min_samples_leaf=10,\n",
       "                                                                  n_estimators=10,\n",
       "                                                                  random_state=42)],\n",
       "                          &#x27;regressor__learning_rate&#x27;: [0.1, 0.5, 0.8],\n",
       "                          &#x27;regressor__max_depth&#x27;: [5, 10, 20],\n",
       "                          &#x27;regressor__max_leaf_nodes&#x27;: [2, 5, 10],\n",
       "                          &#x27;regressor__min_samples_leaf&#x27;: [2, 5, 10],\n",
       "                          &#x27;regressor__min_samples_split&#x27;: [2, 5, 10],\n",
       "                          &#x27;regressor__n_estimators&#x27;: [2, 5, 10, 15]}],\n",
       "             verbose=3)</pre></div></div></div><div class=\"sk-parallel\"><div class=\"sk-parallel-item\"><div class=\"sk-item\"><div class=\"sk-label-container\"><div class=\"sk-label sk-toggleable\"><input class=\"sk-toggleable__control sk-hidden--visually\" id=\"sk-estimator-id-11\" type=\"checkbox\" ><label for=\"sk-estimator-id-11\" class=\"sk-toggleable__label sk-toggleable__label-arrow\">estimator: Pipeline</label><div class=\"sk-toggleable__content\"><pre>Pipeline(steps=[(&#x27;regressor&#x27;,\n",
       "                 GradientBoostingRegressor(learning_rate=0.5, max_depth=5,\n",
       "                                           max_leaf_nodes=5,\n",
       "                                           min_samples_leaf=10, n_estimators=10,\n",
       "                                           random_state=42))])</pre></div></div></div><div class=\"sk-serial\"><div class=\"sk-item\"><div class=\"sk-serial\"><div class=\"sk-item\"><div class=\"sk-estimator sk-toggleable\"><input class=\"sk-toggleable__control sk-hidden--visually\" id=\"sk-estimator-id-12\" type=\"checkbox\" ><label for=\"sk-estimator-id-12\" class=\"sk-toggleable__label sk-toggleable__label-arrow\">GradientBoostingRegressor</label><div class=\"sk-toggleable__content\"><pre>GradientBoostingRegressor(learning_rate=0.5, max_depth=5, max_leaf_nodes=5,\n",
       "                          min_samples_leaf=10, n_estimators=10,\n",
       "                          random_state=42)</pre></div></div></div></div></div></div></div></div></div></div></div></div>"
      ],
      "text/plain": [
       "GridSearchCV(cv=3,\n",
       "             estimator=Pipeline(steps=[('regressor',\n",
       "                                        GradientBoostingRegressor(learning_rate=0.5,\n",
       "                                                                  max_depth=5,\n",
       "                                                                  max_leaf_nodes=5,\n",
       "                                                                  min_samples_leaf=10,\n",
       "                                                                  n_estimators=10,\n",
       "                                                                  random_state=42))]),\n",
       "             n_jobs=-1,\n",
       "             param_grid=[{'regressor': [GradientBoostingRegressor(learning_rate=0.5,\n",
       "                                                                  max_depth=5,\n",
       "                                                                  max_leaf_nodes=5,\n",
       "                                                                  min_samples_leaf=10,\n",
       "                                                                  n_estimators=10,\n",
       "                                                                  random_state=42)],\n",
       "                          'regressor__learning_rate': [0.1, 0.5, 0.8],\n",
       "                          'regressor__max_depth': [5, 10, 20],\n",
       "                          'regressor__max_leaf_nodes': [2, 5, 10],\n",
       "                          'regressor__min_samples_leaf': [2, 5, 10],\n",
       "                          'regressor__min_samples_split': [2, 5, 10],\n",
       "                          'regressor__n_estimators': [2, 5, 10, 15]}],\n",
       "             verbose=3)"
      ]
     },
     "execution_count": 41,
     "metadata": {},
     "output_type": "execute_result"
    }
   ],
   "source": [
    "gs.fit(df2_train, y_train)"
   ]
  },
  {
   "cell_type": "code",
   "execution_count": 136,
   "id": "cda1009a-e2a3-493d-b899-715f6195f826",
   "metadata": {},
   "outputs": [],
   "source": [
    "pipeline1 = Pipeline([('regressor', clf3)])\n",
    "params1 = [param3]"
   ]
  },
  {
   "cell_type": "code",
   "execution_count": 138,
   "id": "3e1494ec-3580-440a-9577-ce0a171d922f",
   "metadata": {},
   "outputs": [],
   "source": [
    "# Train the grid search model\n",
    "gs = GridSearchCV(pipeline1, params1, cv=3, n_jobs=-1, verbose=1,scoring='r2')"
   ]
  },
  {
   "cell_type": "code",
   "execution_count": 139,
   "id": "cd0b74ab-0001-4eda-9be2-a4493058d143",
   "metadata": {},
   "outputs": [
    {
     "name": "stdout",
     "output_type": "stream",
     "text": [
      "Fitting 3 folds for each of 27 candidates, totalling 81 fits\n"
     ]
    },
    {
     "data": {
      "text/html": [
       "<style>#sk-container-id-7 {color: black;background-color: white;}#sk-container-id-7 pre{padding: 0;}#sk-container-id-7 div.sk-toggleable {background-color: white;}#sk-container-id-7 label.sk-toggleable__label {cursor: pointer;display: block;width: 100%;margin-bottom: 0;padding: 0.3em;box-sizing: border-box;text-align: center;}#sk-container-id-7 label.sk-toggleable__label-arrow:before {content: \"▸\";float: left;margin-right: 0.25em;color: #696969;}#sk-container-id-7 label.sk-toggleable__label-arrow:hover:before {color: black;}#sk-container-id-7 div.sk-estimator:hover label.sk-toggleable__label-arrow:before {color: black;}#sk-container-id-7 div.sk-toggleable__content {max-height: 0;max-width: 0;overflow: hidden;text-align: left;background-color: #f0f8ff;}#sk-container-id-7 div.sk-toggleable__content pre {margin: 0.2em;color: black;border-radius: 0.25em;background-color: #f0f8ff;}#sk-container-id-7 input.sk-toggleable__control:checked~div.sk-toggleable__content {max-height: 200px;max-width: 100%;overflow: auto;}#sk-container-id-7 input.sk-toggleable__control:checked~label.sk-toggleable__label-arrow:before {content: \"▾\";}#sk-container-id-7 div.sk-estimator input.sk-toggleable__control:checked~label.sk-toggleable__label {background-color: #d4ebff;}#sk-container-id-7 div.sk-label input.sk-toggleable__control:checked~label.sk-toggleable__label {background-color: #d4ebff;}#sk-container-id-7 input.sk-hidden--visually {border: 0;clip: rect(1px 1px 1px 1px);clip: rect(1px, 1px, 1px, 1px);height: 1px;margin: -1px;overflow: hidden;padding: 0;position: absolute;width: 1px;}#sk-container-id-7 div.sk-estimator {font-family: monospace;background-color: #f0f8ff;border: 1px dotted black;border-radius: 0.25em;box-sizing: border-box;margin-bottom: 0.5em;}#sk-container-id-7 div.sk-estimator:hover {background-color: #d4ebff;}#sk-container-id-7 div.sk-parallel-item::after {content: \"\";width: 100%;border-bottom: 1px solid gray;flex-grow: 1;}#sk-container-id-7 div.sk-label:hover label.sk-toggleable__label {background-color: #d4ebff;}#sk-container-id-7 div.sk-serial::before {content: \"\";position: absolute;border-left: 1px solid gray;box-sizing: border-box;top: 0;bottom: 0;left: 50%;z-index: 0;}#sk-container-id-7 div.sk-serial {display: flex;flex-direction: column;align-items: center;background-color: white;padding-right: 0.2em;padding-left: 0.2em;position: relative;}#sk-container-id-7 div.sk-item {position: relative;z-index: 1;}#sk-container-id-7 div.sk-parallel {display: flex;align-items: stretch;justify-content: center;background-color: white;position: relative;}#sk-container-id-7 div.sk-item::before, #sk-container-id-7 div.sk-parallel-item::before {content: \"\";position: absolute;border-left: 1px solid gray;box-sizing: border-box;top: 0;bottom: 0;left: 50%;z-index: -1;}#sk-container-id-7 div.sk-parallel-item {display: flex;flex-direction: column;z-index: 1;position: relative;background-color: white;}#sk-container-id-7 div.sk-parallel-item:first-child::after {align-self: flex-end;width: 50%;}#sk-container-id-7 div.sk-parallel-item:last-child::after {align-self: flex-start;width: 50%;}#sk-container-id-7 div.sk-parallel-item:only-child::after {width: 0;}#sk-container-id-7 div.sk-dashed-wrapped {border: 1px dashed gray;margin: 0 0.4em 0.5em 0.4em;box-sizing: border-box;padding-bottom: 0.4em;background-color: white;}#sk-container-id-7 div.sk-label label {font-family: monospace;font-weight: bold;display: inline-block;line-height: 1.2em;}#sk-container-id-7 div.sk-label-container {text-align: center;}#sk-container-id-7 div.sk-container {/* jupyter's `normalize.less` sets `[hidden] { display: none; }` but bootstrap.min.css set `[hidden] { display: none !important; }` so we also need the `!important` here to be able to override the default hidden behavior on the sphinx rendered scikit-learn.org. See: https://github.com/scikit-learn/scikit-learn/issues/21755 */display: inline-block !important;position: relative;}#sk-container-id-7 div.sk-text-repr-fallback {display: none;}</style><div id=\"sk-container-id-7\" class=\"sk-top-container\"><div class=\"sk-text-repr-fallback\"><pre>GridSearchCV(cv=3,\n",
       "             estimator=Pipeline(steps=[(&#x27;regressor&#x27;,\n",
       "                                        GradientBoostingRegressor(max_depth=5,\n",
       "                                                                  max_leaf_nodes=5,\n",
       "                                                                  min_samples_leaf=10,\n",
       "                                                                  random_state=42))]),\n",
       "             n_jobs=-1,\n",
       "             param_grid=[{&#x27;regressor&#x27;: [GradientBoostingRegressor(max_depth=5,\n",
       "                                                                  max_leaf_nodes=5,\n",
       "                                                                  min_samples_leaf=10,\n",
       "                                                                  random_state=42)],\n",
       "                          &#x27;regressor__learning_rate&#x27;: [0.1, 0.5, 0.8],\n",
       "                          &#x27;regressor__max_depth&#x27;: [5, 10, 20],\n",
       "                          &#x27;regressor__n_estimators&#x27;: [10, 100, 1000]}],\n",
       "             scoring=&#x27;r2&#x27;, verbose=1)</pre><b>In a Jupyter environment, please rerun this cell to show the HTML representation or trust the notebook. <br />On GitHub, the HTML representation is unable to render, please try loading this page with nbviewer.org.</b></div><div class=\"sk-container\" hidden><div class=\"sk-item sk-dashed-wrapped\"><div class=\"sk-label-container\"><div class=\"sk-label sk-toggleable\"><input class=\"sk-toggleable__control sk-hidden--visually\" id=\"sk-estimator-id-18\" type=\"checkbox\" ><label for=\"sk-estimator-id-18\" class=\"sk-toggleable__label sk-toggleable__label-arrow\">GridSearchCV</label><div class=\"sk-toggleable__content\"><pre>GridSearchCV(cv=3,\n",
       "             estimator=Pipeline(steps=[(&#x27;regressor&#x27;,\n",
       "                                        GradientBoostingRegressor(max_depth=5,\n",
       "                                                                  max_leaf_nodes=5,\n",
       "                                                                  min_samples_leaf=10,\n",
       "                                                                  random_state=42))]),\n",
       "             n_jobs=-1,\n",
       "             param_grid=[{&#x27;regressor&#x27;: [GradientBoostingRegressor(max_depth=5,\n",
       "                                                                  max_leaf_nodes=5,\n",
       "                                                                  min_samples_leaf=10,\n",
       "                                                                  random_state=42)],\n",
       "                          &#x27;regressor__learning_rate&#x27;: [0.1, 0.5, 0.8],\n",
       "                          &#x27;regressor__max_depth&#x27;: [5, 10, 20],\n",
       "                          &#x27;regressor__n_estimators&#x27;: [10, 100, 1000]}],\n",
       "             scoring=&#x27;r2&#x27;, verbose=1)</pre></div></div></div><div class=\"sk-parallel\"><div class=\"sk-parallel-item\"><div class=\"sk-item\"><div class=\"sk-label-container\"><div class=\"sk-label sk-toggleable\"><input class=\"sk-toggleable__control sk-hidden--visually\" id=\"sk-estimator-id-19\" type=\"checkbox\" ><label for=\"sk-estimator-id-19\" class=\"sk-toggleable__label sk-toggleable__label-arrow\">estimator: Pipeline</label><div class=\"sk-toggleable__content\"><pre>Pipeline(steps=[(&#x27;regressor&#x27;,\n",
       "                 GradientBoostingRegressor(max_depth=5, max_leaf_nodes=5,\n",
       "                                           min_samples_leaf=10,\n",
       "                                           random_state=42))])</pre></div></div></div><div class=\"sk-serial\"><div class=\"sk-item\"><div class=\"sk-serial\"><div class=\"sk-item\"><div class=\"sk-estimator sk-toggleable\"><input class=\"sk-toggleable__control sk-hidden--visually\" id=\"sk-estimator-id-20\" type=\"checkbox\" ><label for=\"sk-estimator-id-20\" class=\"sk-toggleable__label sk-toggleable__label-arrow\">GradientBoostingRegressor</label><div class=\"sk-toggleable__content\"><pre>GradientBoostingRegressor(max_depth=5, max_leaf_nodes=5, min_samples_leaf=10,\n",
       "                          random_state=42)</pre></div></div></div></div></div></div></div></div></div></div></div></div>"
      ],
      "text/plain": [
       "GridSearchCV(cv=3,\n",
       "             estimator=Pipeline(steps=[('regressor',\n",
       "                                        GradientBoostingRegressor(max_depth=5,\n",
       "                                                                  max_leaf_nodes=5,\n",
       "                                                                  min_samples_leaf=10,\n",
       "                                                                  random_state=42))]),\n",
       "             n_jobs=-1,\n",
       "             param_grid=[{'regressor': [GradientBoostingRegressor(max_depth=5,\n",
       "                                                                  max_leaf_nodes=5,\n",
       "                                                                  min_samples_leaf=10,\n",
       "                                                                  random_state=42)],\n",
       "                          'regressor__learning_rate': [0.1, 0.5, 0.8],\n",
       "                          'regressor__max_depth': [5, 10, 20],\n",
       "                          'regressor__n_estimators': [10, 100, 1000]}],\n",
       "             scoring='r2', verbose=1)"
      ]
     },
     "execution_count": 139,
     "metadata": {},
     "output_type": "execute_result"
    }
   ],
   "source": [
    "gs.fit(df2_train, y_train)"
   ]
  },
  {
   "cell_type": "code",
   "execution_count": 140,
   "id": "75c47644-8ef5-4241-bfc3-fb9d4a6f3fff",
   "metadata": {},
   "outputs": [
    {
     "data": {
      "text/plain": [
       "{'regressor': GradientBoostingRegressor(max_depth=5, max_leaf_nodes=5, min_samples_leaf=10,\n",
       "                           random_state=42),\n",
       " 'regressor__learning_rate': 0.1,\n",
       " 'regressor__max_depth': 5,\n",
       " 'regressor__n_estimators': 100}"
      ]
     },
     "execution_count": 140,
     "metadata": {},
     "output_type": "execute_result"
    }
   ],
   "source": [
    "# Best performing model and its corresponding hyperparameters\n",
    "gs.best_params_"
   ]
  },
  {
   "cell_type": "code",
   "execution_count": 16,
   "id": "6296a9e3-6971-4704-a0d3-d700d7c479d2",
   "metadata": {},
   "outputs": [],
   "source": [
    "clf1 = RandomForestRegressor(random_state=42)\n",
    "clf3 = GradientBoostingRegressor(random_state=42)\n",
    "clf5 = LGBMRegressor(random_state=42)"
   ]
  },
  {
   "cell_type": "code",
   "execution_count": 132,
   "id": "6cdee616-9b6e-4751-b06c-772826a443d8",
   "metadata": {},
   "outputs": [],
   "source": [
    "two = ['Others', 'High School', 'Bachelor']\n",
    "three = ['<=2L', '2L-5L', '5L-10L', 'More than 10L']\n",
    "four = [0, 1]\n",
    "five = [0, 1, 2, 3, 4, 5, 6, 7, 8]\n",
    "seven = ['1', 'More than 1']\n",
    "eight = ['C', 'B', 'A']\n",
    "nine = ['Silver', 'Gold', 'Platinum']"
   ]
  },
  {
   "cell_type": "code",
   "execution_count": 98,
   "id": "8dca64a1-b73e-4c2e-b5c9-ea4bd1afe635",
   "metadata": {},
   "outputs": [],
   "source": [
    " trf2 = ColumnTransformer([\n",
    "    ('powerT', PowerTransformer(), [6])\n",
    "], remainder='passthrough')\n"
   ]
  },
  {
   "cell_type": "code",
   "execution_count": 99,
   "id": "a05ce452-3e4d-47bc-bbbb-237c64b9decd",
   "metadata": {},
   "outputs": [],
   "source": [
    "ct = ColumnTransformer(transformers=[\n",
    "        ('ohe',OneHotEncoder(sparse=False,drop='first'),[1,2,8]),\n",
    "        ('ore',OrdinalEncoder(handle_unknown='error',categories=[two, three,five, seven, nine]),\n",
    "     [3,4,6,7,9])],remainder='passthrough')\n",
    "    "
   ]
  },
  {
   "cell_type": "code",
   "execution_count": 28,
   "id": "fbc589cc-2ed6-454f-8407-6c1677ff0728",
   "metadata": {},
   "outputs": [],
   "source": [
    "pipeline3 = Pipeline([(\"PowerTransform\",trf2),(\"ct-transform\", ct),(\"regressor\", clf1)])\n",
    "params3 = [param1,param3,param5]"
   ]
  },
  {
   "cell_type": "code",
   "execution_count": 31,
   "id": "8751a050-220b-4b76-b51f-c102a8af8cc6",
   "metadata": {},
   "outputs": [],
   "source": [
    "# Train the grid search model\n",
    "gs = GridSearchCV(pipeline3, params3,cv=3,n_jobs=-1, verbose=1,scoring='r2')"
   ]
  },
  {
   "cell_type": "code",
   "execution_count": 32,
   "id": "89103d92-609a-4274-add5-6dc93e577cc9",
   "metadata": {},
   "outputs": [
    {
     "name": "stdout",
     "output_type": "stream",
     "text": [
      "Fitting 3 folds for each of 351 candidates, totalling 1053 fits\n"
     ]
    },
    {
     "data": {
      "text/html": [
       "<style>#sk-container-id-2 {color: black;background-color: white;}#sk-container-id-2 pre{padding: 0;}#sk-container-id-2 div.sk-toggleable {background-color: white;}#sk-container-id-2 label.sk-toggleable__label {cursor: pointer;display: block;width: 100%;margin-bottom: 0;padding: 0.3em;box-sizing: border-box;text-align: center;}#sk-container-id-2 label.sk-toggleable__label-arrow:before {content: \"▸\";float: left;margin-right: 0.25em;color: #696969;}#sk-container-id-2 label.sk-toggleable__label-arrow:hover:before {color: black;}#sk-container-id-2 div.sk-estimator:hover label.sk-toggleable__label-arrow:before {color: black;}#sk-container-id-2 div.sk-toggleable__content {max-height: 0;max-width: 0;overflow: hidden;text-align: left;background-color: #f0f8ff;}#sk-container-id-2 div.sk-toggleable__content pre {margin: 0.2em;color: black;border-radius: 0.25em;background-color: #f0f8ff;}#sk-container-id-2 input.sk-toggleable__control:checked~div.sk-toggleable__content {max-height: 200px;max-width: 100%;overflow: auto;}#sk-container-id-2 input.sk-toggleable__control:checked~label.sk-toggleable__label-arrow:before {content: \"▾\";}#sk-container-id-2 div.sk-estimator input.sk-toggleable__control:checked~label.sk-toggleable__label {background-color: #d4ebff;}#sk-container-id-2 div.sk-label input.sk-toggleable__control:checked~label.sk-toggleable__label {background-color: #d4ebff;}#sk-container-id-2 input.sk-hidden--visually {border: 0;clip: rect(1px 1px 1px 1px);clip: rect(1px, 1px, 1px, 1px);height: 1px;margin: -1px;overflow: hidden;padding: 0;position: absolute;width: 1px;}#sk-container-id-2 div.sk-estimator {font-family: monospace;background-color: #f0f8ff;border: 1px dotted black;border-radius: 0.25em;box-sizing: border-box;margin-bottom: 0.5em;}#sk-container-id-2 div.sk-estimator:hover {background-color: #d4ebff;}#sk-container-id-2 div.sk-parallel-item::after {content: \"\";width: 100%;border-bottom: 1px solid gray;flex-grow: 1;}#sk-container-id-2 div.sk-label:hover label.sk-toggleable__label {background-color: #d4ebff;}#sk-container-id-2 div.sk-serial::before {content: \"\";position: absolute;border-left: 1px solid gray;box-sizing: border-box;top: 0;bottom: 0;left: 50%;z-index: 0;}#sk-container-id-2 div.sk-serial {display: flex;flex-direction: column;align-items: center;background-color: white;padding-right: 0.2em;padding-left: 0.2em;position: relative;}#sk-container-id-2 div.sk-item {position: relative;z-index: 1;}#sk-container-id-2 div.sk-parallel {display: flex;align-items: stretch;justify-content: center;background-color: white;position: relative;}#sk-container-id-2 div.sk-item::before, #sk-container-id-2 div.sk-parallel-item::before {content: \"\";position: absolute;border-left: 1px solid gray;box-sizing: border-box;top: 0;bottom: 0;left: 50%;z-index: -1;}#sk-container-id-2 div.sk-parallel-item {display: flex;flex-direction: column;z-index: 1;position: relative;background-color: white;}#sk-container-id-2 div.sk-parallel-item:first-child::after {align-self: flex-end;width: 50%;}#sk-container-id-2 div.sk-parallel-item:last-child::after {align-self: flex-start;width: 50%;}#sk-container-id-2 div.sk-parallel-item:only-child::after {width: 0;}#sk-container-id-2 div.sk-dashed-wrapped {border: 1px dashed gray;margin: 0 0.4em 0.5em 0.4em;box-sizing: border-box;padding-bottom: 0.4em;background-color: white;}#sk-container-id-2 div.sk-label label {font-family: monospace;font-weight: bold;display: inline-block;line-height: 1.2em;}#sk-container-id-2 div.sk-label-container {text-align: center;}#sk-container-id-2 div.sk-container {/* jupyter's `normalize.less` sets `[hidden] { display: none; }` but bootstrap.min.css set `[hidden] { display: none !important; }` so we also need the `!important` here to be able to override the default hidden behavior on the sphinx rendered scikit-learn.org. See: https://github.com/scikit-learn/scikit-learn/issues/21755 */display: inline-block !important;position: relative;}#sk-container-id-2 div.sk-text-repr-fallback {display: none;}</style><div id=\"sk-container-id-2\" class=\"sk-top-container\"><div class=\"sk-text-repr-fallback\"><pre>GridSearchCV(cv=3,\n",
       "             estimator=Pipeline(steps=[(&#x27;PowerTransform&#x27;,\n",
       "                                        ColumnTransformer(remainder=&#x27;passthrough&#x27;,\n",
       "                                                          transformers=[(&#x27;powerT&#x27;,\n",
       "                                                                         PowerTransformer(),\n",
       "                                                                         [6])])),\n",
       "                                       (&#x27;ct-transform&#x27;,\n",
       "                                        ColumnTransformer(remainder=&#x27;passthrough&#x27;,\n",
       "                                                          transformers=[(&#x27;ohe&#x27;,\n",
       "                                                                         OneHotEncoder(drop=&#x27;first&#x27;,\n",
       "                                                                                       sparse=False),\n",
       "                                                                         [1,\n",
       "                                                                          2]),\n",
       "                                                                        (&#x27;ore&#x27;,\n",
       "                                                                         OrdinalEncoder(categories=[[&#x27;Others&#x27;,\n",
       "                                                                                                     &#x27;High &#x27;\n",
       "                                                                                                     &#x27;School&#x27;,\n",
       "                                                                                                     &#x27;Bachelor...\n",
       "                          &#x27;regressor__n_estimators&#x27;: [10, 100, 1000]},\n",
       "                         {&#x27;regressor&#x27;: [LGBMRegressor(colsample_bytree=0.6,\n",
       "                                                      max_depth=5,\n",
       "                                                      min_child_weight=1,\n",
       "                                                      random_state=42)],\n",
       "                          &#x27;regressor__colsample_bytree&#x27;: [0.6, 0.8, 1.0],\n",
       "                          &#x27;regressor__learning_rate&#x27;: [0.1, 0.5, 0.8],\n",
       "                          &#x27;regressor__max_depth&#x27;: [5, 10, 20],\n",
       "                          &#x27;regressor__min_child_weight&#x27;: [1, 5, 10],\n",
       "                          &#x27;regressor__n_estimators&#x27;: [10, 100, 1000]}],\n",
       "             scoring=&#x27;r2&#x27;, verbose=1)</pre><b>In a Jupyter environment, please rerun this cell to show the HTML representation or trust the notebook. <br />On GitHub, the HTML representation is unable to render, please try loading this page with nbviewer.org.</b></div><div class=\"sk-container\" hidden><div class=\"sk-item sk-dashed-wrapped\"><div class=\"sk-label-container\"><div class=\"sk-label sk-toggleable\"><input class=\"sk-toggleable__control sk-hidden--visually\" id=\"sk-estimator-id-15\" type=\"checkbox\" ><label for=\"sk-estimator-id-15\" class=\"sk-toggleable__label sk-toggleable__label-arrow\">GridSearchCV</label><div class=\"sk-toggleable__content\"><pre>GridSearchCV(cv=3,\n",
       "             estimator=Pipeline(steps=[(&#x27;PowerTransform&#x27;,\n",
       "                                        ColumnTransformer(remainder=&#x27;passthrough&#x27;,\n",
       "                                                          transformers=[(&#x27;powerT&#x27;,\n",
       "                                                                         PowerTransformer(),\n",
       "                                                                         [6])])),\n",
       "                                       (&#x27;ct-transform&#x27;,\n",
       "                                        ColumnTransformer(remainder=&#x27;passthrough&#x27;,\n",
       "                                                          transformers=[(&#x27;ohe&#x27;,\n",
       "                                                                         OneHotEncoder(drop=&#x27;first&#x27;,\n",
       "                                                                                       sparse=False),\n",
       "                                                                         [1,\n",
       "                                                                          2]),\n",
       "                                                                        (&#x27;ore&#x27;,\n",
       "                                                                         OrdinalEncoder(categories=[[&#x27;Others&#x27;,\n",
       "                                                                                                     &#x27;High &#x27;\n",
       "                                                                                                     &#x27;School&#x27;,\n",
       "                                                                                                     &#x27;Bachelor...\n",
       "                          &#x27;regressor__n_estimators&#x27;: [10, 100, 1000]},\n",
       "                         {&#x27;regressor&#x27;: [LGBMRegressor(colsample_bytree=0.6,\n",
       "                                                      max_depth=5,\n",
       "                                                      min_child_weight=1,\n",
       "                                                      random_state=42)],\n",
       "                          &#x27;regressor__colsample_bytree&#x27;: [0.6, 0.8, 1.0],\n",
       "                          &#x27;regressor__learning_rate&#x27;: [0.1, 0.5, 0.8],\n",
       "                          &#x27;regressor__max_depth&#x27;: [5, 10, 20],\n",
       "                          &#x27;regressor__min_child_weight&#x27;: [1, 5, 10],\n",
       "                          &#x27;regressor__n_estimators&#x27;: [10, 100, 1000]}],\n",
       "             scoring=&#x27;r2&#x27;, verbose=1)</pre></div></div></div><div class=\"sk-parallel\"><div class=\"sk-parallel-item\"><div class=\"sk-item\"><div class=\"sk-label-container\"><div class=\"sk-label sk-toggleable\"><input class=\"sk-toggleable__control sk-hidden--visually\" id=\"sk-estimator-id-16\" type=\"checkbox\" ><label for=\"sk-estimator-id-16\" class=\"sk-toggleable__label sk-toggleable__label-arrow\">estimator: Pipeline</label><div class=\"sk-toggleable__content\"><pre>Pipeline(steps=[(&#x27;PowerTransform&#x27;,\n",
       "                 ColumnTransformer(remainder=&#x27;passthrough&#x27;,\n",
       "                                   transformers=[(&#x27;powerT&#x27;, PowerTransformer(),\n",
       "                                                  [6])])),\n",
       "                (&#x27;ct-transform&#x27;,\n",
       "                 ColumnTransformer(remainder=&#x27;passthrough&#x27;,\n",
       "                                   transformers=[(&#x27;ohe&#x27;,\n",
       "                                                  OneHotEncoder(drop=&#x27;first&#x27;,\n",
       "                                                                sparse=False),\n",
       "                                                  [1, 2]),\n",
       "                                                 (&#x27;ore&#x27;,\n",
       "                                                  OrdinalEncoder(categories=[[&#x27;Others&#x27;,\n",
       "                                                                              &#x27;High &#x27;\n",
       "                                                                              &#x27;School&#x27;,\n",
       "                                                                              &#x27;Bachelor&#x27;],\n",
       "                                                                             [&#x27;&lt;=2L&#x27;,\n",
       "                                                                              &#x27;2L-5L&#x27;,\n",
       "                                                                              &#x27;5L-10L&#x27;,\n",
       "                                                                              &#x27;More &#x27;\n",
       "                                                                              &#x27;than &#x27;\n",
       "                                                                              &#x27;10L&#x27;],\n",
       "                                                                             [0,\n",
       "                                                                              1,\n",
       "                                                                              2,\n",
       "                                                                              3,\n",
       "                                                                              4,\n",
       "                                                                              5,\n",
       "                                                                              6,\n",
       "                                                                              7,\n",
       "                                                                              8],\n",
       "                                                                             [&#x27;1&#x27;,\n",
       "                                                                              &#x27;More &#x27;\n",
       "                                                                              &#x27;than &#x27;\n",
       "                                                                              &#x27;1&#x27;],\n",
       "                                                                             [&#x27;C&#x27;,\n",
       "                                                                              &#x27;B&#x27;,\n",
       "                                                                              &#x27;A&#x27;],\n",
       "                                                                             [&#x27;Silver&#x27;,\n",
       "                                                                              &#x27;Gold&#x27;,\n",
       "                                                                              &#x27;Platinum&#x27;]]),\n",
       "                                                  [3, 4, 6, 7, 8, 9])])),\n",
       "                (&#x27;regressor&#x27;, RandomForestRegressor(random_state=42))])</pre></div></div></div><div class=\"sk-serial\"><div class=\"sk-item\"><div class=\"sk-serial\"><div class=\"sk-item sk-dashed-wrapped\"><div class=\"sk-label-container\"><div class=\"sk-label sk-toggleable\"><input class=\"sk-toggleable__control sk-hidden--visually\" id=\"sk-estimator-id-17\" type=\"checkbox\" ><label for=\"sk-estimator-id-17\" class=\"sk-toggleable__label sk-toggleable__label-arrow\">PowerTransform: ColumnTransformer</label><div class=\"sk-toggleable__content\"><pre>ColumnTransformer(remainder=&#x27;passthrough&#x27;,\n",
       "                  transformers=[(&#x27;powerT&#x27;, PowerTransformer(), [6])])</pre></div></div></div><div class=\"sk-parallel\"><div class=\"sk-parallel-item\"><div class=\"sk-item\"><div class=\"sk-label-container\"><div class=\"sk-label sk-toggleable\"><input class=\"sk-toggleable__control sk-hidden--visually\" id=\"sk-estimator-id-18\" type=\"checkbox\" ><label for=\"sk-estimator-id-18\" class=\"sk-toggleable__label sk-toggleable__label-arrow\">powerT</label><div class=\"sk-toggleable__content\"><pre>[6]</pre></div></div></div><div class=\"sk-serial\"><div class=\"sk-item\"><div class=\"sk-estimator sk-toggleable\"><input class=\"sk-toggleable__control sk-hidden--visually\" id=\"sk-estimator-id-19\" type=\"checkbox\" ><label for=\"sk-estimator-id-19\" class=\"sk-toggleable__label sk-toggleable__label-arrow\">PowerTransformer</label><div class=\"sk-toggleable__content\"><pre>PowerTransformer()</pre></div></div></div></div></div></div><div class=\"sk-parallel-item\"><div class=\"sk-item\"><div class=\"sk-label-container\"><div class=\"sk-label sk-toggleable\"><input class=\"sk-toggleable__control sk-hidden--visually\" id=\"sk-estimator-id-20\" type=\"checkbox\" ><label for=\"sk-estimator-id-20\" class=\"sk-toggleable__label sk-toggleable__label-arrow\">remainder</label><div class=\"sk-toggleable__content\"><pre>[&#x27;gender&#x27;, &#x27;area&#x27;, &#x27;qualification&#x27;, &#x27;income&#x27;, &#x27;marital_status&#x27;, &#x27;vintage&#x27;, &#x27;num_policies&#x27;, &#x27;policy&#x27;, &#x27;type_of_policy&#x27;]</pre></div></div></div><div class=\"sk-serial\"><div class=\"sk-item\"><div class=\"sk-estimator sk-toggleable\"><input class=\"sk-toggleable__control sk-hidden--visually\" id=\"sk-estimator-id-21\" type=\"checkbox\" ><label for=\"sk-estimator-id-21\" class=\"sk-toggleable__label sk-toggleable__label-arrow\">passthrough</label><div class=\"sk-toggleable__content\"><pre>passthrough</pre></div></div></div></div></div></div></div></div><div class=\"sk-item sk-dashed-wrapped\"><div class=\"sk-label-container\"><div class=\"sk-label sk-toggleable\"><input class=\"sk-toggleable__control sk-hidden--visually\" id=\"sk-estimator-id-22\" type=\"checkbox\" ><label for=\"sk-estimator-id-22\" class=\"sk-toggleable__label sk-toggleable__label-arrow\">ct-transform: ColumnTransformer</label><div class=\"sk-toggleable__content\"><pre>ColumnTransformer(remainder=&#x27;passthrough&#x27;,\n",
       "                  transformers=[(&#x27;ohe&#x27;,\n",
       "                                 OneHotEncoder(drop=&#x27;first&#x27;, sparse=False),\n",
       "                                 [1, 2]),\n",
       "                                (&#x27;ore&#x27;,\n",
       "                                 OrdinalEncoder(categories=[[&#x27;Others&#x27;,\n",
       "                                                             &#x27;High School&#x27;,\n",
       "                                                             &#x27;Bachelor&#x27;],\n",
       "                                                            [&#x27;&lt;=2L&#x27;, &#x27;2L-5L&#x27;,\n",
       "                                                             &#x27;5L-10L&#x27;,\n",
       "                                                             &#x27;More than 10L&#x27;],\n",
       "                                                            [0, 1, 2, 3, 4, 5,\n",
       "                                                             6, 7, 8],\n",
       "                                                            [&#x27;1&#x27;,\n",
       "                                                             &#x27;More than 1&#x27;],\n",
       "                                                            [&#x27;C&#x27;, &#x27;B&#x27;, &#x27;A&#x27;],\n",
       "                                                            [&#x27;Silver&#x27;, &#x27;Gold&#x27;,\n",
       "                                                             &#x27;Platinum&#x27;]]),\n",
       "                                 [3, 4, 6, 7, 8, 9])])</pre></div></div></div><div class=\"sk-parallel\"><div class=\"sk-parallel-item\"><div class=\"sk-item\"><div class=\"sk-label-container\"><div class=\"sk-label sk-toggleable\"><input class=\"sk-toggleable__control sk-hidden--visually\" id=\"sk-estimator-id-23\" type=\"checkbox\" ><label for=\"sk-estimator-id-23\" class=\"sk-toggleable__label sk-toggleable__label-arrow\">ohe</label><div class=\"sk-toggleable__content\"><pre>[1, 2]</pre></div></div></div><div class=\"sk-serial\"><div class=\"sk-item\"><div class=\"sk-estimator sk-toggleable\"><input class=\"sk-toggleable__control sk-hidden--visually\" id=\"sk-estimator-id-24\" type=\"checkbox\" ><label for=\"sk-estimator-id-24\" class=\"sk-toggleable__label sk-toggleable__label-arrow\">OneHotEncoder</label><div class=\"sk-toggleable__content\"><pre>OneHotEncoder(drop=&#x27;first&#x27;, sparse=False)</pre></div></div></div></div></div></div><div class=\"sk-parallel-item\"><div class=\"sk-item\"><div class=\"sk-label-container\"><div class=\"sk-label sk-toggleable\"><input class=\"sk-toggleable__control sk-hidden--visually\" id=\"sk-estimator-id-25\" type=\"checkbox\" ><label for=\"sk-estimator-id-25\" class=\"sk-toggleable__label sk-toggleable__label-arrow\">ore</label><div class=\"sk-toggleable__content\"><pre>[3, 4, 6, 7, 8, 9]</pre></div></div></div><div class=\"sk-serial\"><div class=\"sk-item\"><div class=\"sk-estimator sk-toggleable\"><input class=\"sk-toggleable__control sk-hidden--visually\" id=\"sk-estimator-id-26\" type=\"checkbox\" ><label for=\"sk-estimator-id-26\" class=\"sk-toggleable__label sk-toggleable__label-arrow\">OrdinalEncoder</label><div class=\"sk-toggleable__content\"><pre>OrdinalEncoder(categories=[[&#x27;Others&#x27;, &#x27;High School&#x27;, &#x27;Bachelor&#x27;],\n",
       "                           [&#x27;&lt;=2L&#x27;, &#x27;2L-5L&#x27;, &#x27;5L-10L&#x27;, &#x27;More than 10L&#x27;],\n",
       "                           [0, 1, 2, 3, 4, 5, 6, 7, 8], [&#x27;1&#x27;, &#x27;More than 1&#x27;],\n",
       "                           [&#x27;C&#x27;, &#x27;B&#x27;, &#x27;A&#x27;], [&#x27;Silver&#x27;, &#x27;Gold&#x27;, &#x27;Platinum&#x27;]])</pre></div></div></div></div></div></div><div class=\"sk-parallel-item\"><div class=\"sk-item\"><div class=\"sk-label-container\"><div class=\"sk-label sk-toggleable\"><input class=\"sk-toggleable__control sk-hidden--visually\" id=\"sk-estimator-id-27\" type=\"checkbox\" ><label for=\"sk-estimator-id-27\" class=\"sk-toggleable__label sk-toggleable__label-arrow\">remainder</label><div class=\"sk-toggleable__content\"><pre>[0, 5]</pre></div></div></div><div class=\"sk-serial\"><div class=\"sk-item\"><div class=\"sk-estimator sk-toggleable\"><input class=\"sk-toggleable__control sk-hidden--visually\" id=\"sk-estimator-id-28\" type=\"checkbox\" ><label for=\"sk-estimator-id-28\" class=\"sk-toggleable__label sk-toggleable__label-arrow\">passthrough</label><div class=\"sk-toggleable__content\"><pre>passthrough</pre></div></div></div></div></div></div></div></div><div class=\"sk-item\"><div class=\"sk-estimator sk-toggleable\"><input class=\"sk-toggleable__control sk-hidden--visually\" id=\"sk-estimator-id-29\" type=\"checkbox\" ><label for=\"sk-estimator-id-29\" class=\"sk-toggleable__label sk-toggleable__label-arrow\">RandomForestRegressor</label><div class=\"sk-toggleable__content\"><pre>RandomForestRegressor(random_state=42)</pre></div></div></div></div></div></div></div></div></div></div></div></div>"
      ],
      "text/plain": [
       "GridSearchCV(cv=3,\n",
       "             estimator=Pipeline(steps=[('PowerTransform',\n",
       "                                        ColumnTransformer(remainder='passthrough',\n",
       "                                                          transformers=[('powerT',\n",
       "                                                                         PowerTransformer(),\n",
       "                                                                         [6])])),\n",
       "                                       ('ct-transform',\n",
       "                                        ColumnTransformer(remainder='passthrough',\n",
       "                                                          transformers=[('ohe',\n",
       "                                                                         OneHotEncoder(drop='first',\n",
       "                                                                                       sparse=False),\n",
       "                                                                         [1,\n",
       "                                                                          2]),\n",
       "                                                                        ('ore',\n",
       "                                                                         OrdinalEncoder(categories=[['Others',\n",
       "                                                                                                     'High '\n",
       "                                                                                                     'School',\n",
       "                                                                                                     'Bachelor...\n",
       "                          'regressor__n_estimators': [10, 100, 1000]},\n",
       "                         {'regressor': [LGBMRegressor(colsample_bytree=0.6,\n",
       "                                                      max_depth=5,\n",
       "                                                      min_child_weight=1,\n",
       "                                                      random_state=42)],\n",
       "                          'regressor__colsample_bytree': [0.6, 0.8, 1.0],\n",
       "                          'regressor__learning_rate': [0.1, 0.5, 0.8],\n",
       "                          'regressor__max_depth': [5, 10, 20],\n",
       "                          'regressor__min_child_weight': [1, 5, 10],\n",
       "                          'regressor__n_estimators': [10, 100, 1000]}],\n",
       "             scoring='r2', verbose=1)"
      ]
     },
     "execution_count": 32,
     "metadata": {},
     "output_type": "execute_result"
    }
   ],
   "source": [
    "gs.fit(X_train,y_train)"
   ]
  },
  {
   "cell_type": "code",
   "execution_count": 33,
   "id": "9a038926-cced-4243-8069-21ae5172a778",
   "metadata": {},
   "outputs": [
    {
     "data": {
      "text/plain": [
       "{'regressor': LGBMRegressor(colsample_bytree=0.6, max_depth=5, min_child_weight=1,\n",
       "               random_state=42),\n",
       " 'regressor__colsample_bytree': 0.6,\n",
       " 'regressor__learning_rate': 0.1,\n",
       " 'regressor__max_depth': 5,\n",
       " 'regressor__min_child_weight': 1,\n",
       " 'regressor__n_estimators': 100}"
      ]
     },
     "execution_count": 33,
     "metadata": {},
     "output_type": "execute_result"
    }
   ],
   "source": [
    "gs.best_params_"
   ]
  },
  {
   "cell_type": "code",
   "execution_count": 34,
   "id": "e71e7457-76e1-40a3-9a54-8a5439357d31",
   "metadata": {},
   "outputs": [
    {
     "data": {
      "text/plain": [
       "0.15817516467724757"
      ]
     },
     "execution_count": 34,
     "metadata": {},
     "output_type": "execute_result"
    }
   ],
   "source": [
    "from sklearn.metrics import mean_absolute_error, r2_score\n",
    "ypred = gs.predict(X_test)\n",
    "r2_score(y_test, ypred)"
   ]
  },
  {
   "cell_type": "markdown",
   "id": "2974633d-203c-4a79-813a-c8aeeeadb0ed",
   "metadata": {},
   "source": [
    "### Method 2 : First column transformation then passing the data through list of models and then selecting one model based on r2 score"
   ]
  },
  {
   "cell_type": "code",
   "execution_count": 132,
   "id": "160f8c26-eaeb-458c-9bdb-a88f2a74afa1",
   "metadata": {},
   "outputs": [],
   "source": [
    "two = ['Others', 'High School', 'Bachelor']\n",
    "three = ['<=2L', '2L-5L', '5L-10L', 'More than 10L']\n",
    "four = [0, 1]\n",
    "five = [0, 1, 2, 3, 4, 5, 6, 7, 8]\n",
    "seven = ['1', 'More than 1']\n",
    "eight = ['C', 'B', 'A']\n",
    "nine = ['Silver', 'Gold', 'Platinum']"
   ]
  },
  {
   "cell_type": "code",
   "execution_count": 98,
   "id": "54e9c892-43e7-42cf-baba-e5fd5bba2783",
   "metadata": {},
   "outputs": [],
   "source": [
    " trf2 = ColumnTransformer([\n",
    "    ('powerT', PowerTransformer(), [6])\n",
    "], remainder='passthrough')\n"
   ]
  },
  {
   "cell_type": "code",
   "execution_count": 99,
   "id": "6fa22df4-a85c-4fd5-94be-b86befcd82d7",
   "metadata": {},
   "outputs": [],
   "source": [
    "ct = ColumnTransformer(transformers=[\n",
    "        ('ohe',OneHotEncoder(sparse=False,drop='first'),[1,2,8]),\n",
    "        ('ore',OrdinalEncoder(handle_unknown='error',categories=[two, three,five, seven, nine]),\n",
    "     [3,4,6,7,9])],remainder='passthrough')\n",
    "    "
   ]
  },
  {
   "cell_type": "code",
   "execution_count": null,
   "id": "3a64b193-232c-4dcb-9b7b-e918ba7aa64b",
   "metadata": {},
   "outputs": [],
   "source": [
    "pipeline4.fit_transform(X_train)"
   ]
  },
  {
   "cell_type": "code",
   "execution_count": 100,
   "id": "fd6173ec-d854-49e6-a9e3-3d8480241e5a",
   "metadata": {},
   "outputs": [],
   "source": [
    "pipeline4=Pipeline([(\"PowerTransform\",trf2),(\"ct-transform\", ct)])"
   ]
  },
  {
   "cell_type": "markdown",
   "id": "512f2e14-940f-41bc-bfb4-8c5e25473f4b",
   "metadata": {},
   "source": [
    "## Pipeline with Power Transformer did not give good r2 score hence i did only column transformation using one hot encoding and ordinal encoding and left 'Claim_amount' columns as it is"
   ]
  },
  {
   "cell_type": "markdown",
   "id": "97f4f4d8-67c3-466e-ae86-13065db5c312",
   "metadata": {},
   "source": [
    "## While using pipeline we cannot give column names it should be in index form i.e column number"
   ]
  },
  {
   "cell_type": "code",
   "execution_count": 133,
   "id": "24dbebcd-eb15-429d-811d-11e15ba1b542",
   "metadata": {},
   "outputs": [],
   "source": [
    "ct = ColumnTransformer(transformers=[\n",
    "        ('ohe',OneHotEncoder(sparse=False,drop='first'),['gender','area','policy']),\n",
    "        ('ore',OrdinalEncoder(handle_unknown='error',categories=[two, three,five, seven, nine]),\n",
    "     ['qualification','income','vintage','num_policies','type_of_policy'])],remainder='passthrough')\n",
    "    "
   ]
  },
  {
   "cell_type": "code",
   "execution_count": null,
   "id": "5627e161-b899-4324-b34f-9097c2fccdd7",
   "metadata": {},
   "outputs": [],
   "source": [
    "ct.fit_transform(X_train)"
   ]
  },
  {
   "cell_type": "code",
   "execution_count": 135,
   "id": "4e8be0c9-eeed-4b61-a4fa-a5054228064d",
   "metadata": {},
   "outputs": [],
   "source": [
    "df2_train = pd.DataFrame(ct.fit_transform(X_train), columns =['gender','area','policy_B','policy_C','qualification','income', 'vintage','num_policies','type_of_policy',\n",
    "                                                       'marital_status','claim_amount'])"
   ]
  },
  {
   "cell_type": "code",
   "execution_count": 105,
   "id": "7bf7eb10-09bd-4b51-9571-fb6d35770749",
   "metadata": {},
   "outputs": [
    {
     "name": "stdout",
     "output_type": "stream",
     "text": [
      "<class 'pandas.core.frame.DataFrame'>\n",
      "RangeIndex: 71513 entries, 0 to 71512\n",
      "Data columns (total 11 columns):\n",
      " #   Column          Non-Null Count  Dtype  \n",
      "---  ------          --------------  -----  \n",
      " 0   gender          71513 non-null  float64\n",
      " 1   area            71513 non-null  float64\n",
      " 2   policy_B        71513 non-null  float64\n",
      " 3   policy_C        71513 non-null  float64\n",
      " 4   qualification   71513 non-null  float64\n",
      " 5   income          71513 non-null  float64\n",
      " 6   vintage         71513 non-null  float64\n",
      " 7   num_policies    71513 non-null  float64\n",
      " 8   type_of_policy  71513 non-null  float64\n",
      " 9   marital_status  71513 non-null  float64\n",
      " 10  claim_amount    71513 non-null  float64\n",
      "dtypes: float64(11)\n",
      "memory usage: 6.0 MB\n"
     ]
    }
   ],
   "source": [
    "df2_train.info()"
   ]
  },
  {
   "cell_type": "code",
   "execution_count": null,
   "id": "5c608bf6-5766-4d12-8b21-c72091f3bebe",
   "metadata": {},
   "outputs": [],
   "source": [
    "ct.transform(X_test)"
   ]
  },
  {
   "cell_type": "code",
   "execution_count": 138,
   "id": "27401877-0575-4f58-8083-b7bc3724e3a4",
   "metadata": {},
   "outputs": [],
   "source": [
    "df2_test= pd.DataFrame(ct.transform(X_test), columns =['gender','area','policy_B','policy_C','qualification','income', 'vintage','num_policies','type_of_policy',\n",
    "                                                       'marital_status','claim_amount'])"
   ]
  },
  {
   "cell_type": "code",
   "execution_count": 163,
   "id": "f3c3b337-da77-4df2-aecf-a43dbbd22182",
   "metadata": {},
   "outputs": [
    {
     "data": {
      "text/plain": [
       "(71513, 11)"
      ]
     },
     "execution_count": 163,
     "metadata": {},
     "output_type": "execute_result"
    }
   ],
   "source": [
    "df2_train.shape"
   ]
  },
  {
   "cell_type": "code",
   "execution_count": 63,
   "id": "866c2408-647d-4c8c-9356-d249f3cd3aeb",
   "metadata": {},
   "outputs": [
    {
     "data": {
      "text/html": [
       "<div>\n",
       "<style scoped>\n",
       "    .dataframe tbody tr th:only-of-type {\n",
       "        vertical-align: middle;\n",
       "    }\n",
       "\n",
       "    .dataframe tbody tr th {\n",
       "        vertical-align: top;\n",
       "    }\n",
       "\n",
       "    .dataframe thead th {\n",
       "        text-align: right;\n",
       "    }\n",
       "</style>\n",
       "<table border=\"1\" class=\"dataframe\">\n",
       "  <thead>\n",
       "    <tr style=\"text-align: right;\">\n",
       "      <th></th>\n",
       "      <th>cltv</th>\n",
       "    </tr>\n",
       "  </thead>\n",
       "  <tbody>\n",
       "    <tr>\n",
       "      <th>31533</th>\n",
       "      <td>486072</td>\n",
       "    </tr>\n",
       "    <tr>\n",
       "      <th>75212</th>\n",
       "      <td>32124</td>\n",
       "    </tr>\n",
       "    <tr>\n",
       "      <th>69510</th>\n",
       "      <td>34572</td>\n",
       "    </tr>\n",
       "    <tr>\n",
       "      <th>2076</th>\n",
       "      <td>73644</td>\n",
       "    </tr>\n",
       "    <tr>\n",
       "      <th>83252</th>\n",
       "      <td>61236</td>\n",
       "    </tr>\n",
       "    <tr>\n",
       "      <th>...</th>\n",
       "      <td>...</td>\n",
       "    </tr>\n",
       "    <tr>\n",
       "      <th>57651</th>\n",
       "      <td>118404</td>\n",
       "    </tr>\n",
       "    <tr>\n",
       "      <th>83984</th>\n",
       "      <td>31008</td>\n",
       "    </tr>\n",
       "    <tr>\n",
       "      <th>40753</th>\n",
       "      <td>105204</td>\n",
       "    </tr>\n",
       "    <tr>\n",
       "      <th>19776</th>\n",
       "      <td>108648</td>\n",
       "    </tr>\n",
       "    <tr>\n",
       "      <th>14148</th>\n",
       "      <td>71904</td>\n",
       "    </tr>\n",
       "  </tbody>\n",
       "</table>\n",
       "<p>71513 rows × 1 columns</p>\n",
       "</div>"
      ],
      "text/plain": [
       "         cltv\n",
       "31533  486072\n",
       "75212   32124\n",
       "69510   34572\n",
       "2076    73644\n",
       "83252   61236\n",
       "...       ...\n",
       "57651  118404\n",
       "83984   31008\n",
       "40753  105204\n",
       "19776  108648\n",
       "14148   71904\n",
       "\n",
       "[71513 rows x 1 columns]"
      ]
     },
     "execution_count": 63,
     "metadata": {},
     "output_type": "execute_result"
    }
   ],
   "source": [
    "y_train"
   ]
  },
  {
   "cell_type": "code",
   "execution_count": 142,
   "id": "d858d877-c9f6-47ef-bd4a-a4c502829a2c",
   "metadata": {},
   "outputs": [],
   "source": [
    "algos = [RandomForestRegressor(random_state = 200),XGBRegressor(random_state = 200),\n",
    "          GradientBoostingRegressor(max_depth=5, max_leaf_nodes=5, min_samples_leaf=10,learning_rate=0.1,\n",
    "    n_estimators=100,random_state = 200),DecisionTreeRegressor(random_state = 200),LinearRegression(),LGBMRegressor(colsample_bytree=0.6, max_depth=5, min_child_weight=1,random_state=200)]\n",
    "\n",
    "names = ['RandomForestRegressor','XGBRegressor','GradientBoostingRegressor', 'Decision Tree Regressor','LinearRegression','LightGBM']\n",
    "\n",
    "r2_scores =[]\n",
    "MAE=[]"
   ]
  },
  {
   "cell_type": "code",
   "execution_count": 143,
   "id": "59705176-ac12-469a-af4b-b16481c1a000",
   "metadata": {},
   "outputs": [],
   "source": [
    "# building a model\n",
    "from sklearn.metrics import mean_absolute_error, r2_score\n",
    "score=0\n",
    "for name in (algos):\n",
    "    model = name\n",
    "    model.fit(df2_train,y_train)\n",
    "    y_pred = model.predict(df2_test)\n",
    "    score=r2_score(y_test,y_pred)\n",
    "    mae = mean_absolute_error(y_test,y_pred)\n",
    "    r2_scores.append(score)\n",
    "    MAE.append(mae)"
   ]
  },
  {
   "cell_type": "code",
   "execution_count": 144,
   "id": "10387f65-f9e4-4d3c-86a5-f989c3769de3",
   "metadata": {},
   "outputs": [
    {
     "data": {
      "text/html": [
       "<div>\n",
       "<style scoped>\n",
       "    .dataframe tbody tr th:only-of-type {\n",
       "        vertical-align: middle;\n",
       "    }\n",
       "\n",
       "    .dataframe tbody tr th {\n",
       "        vertical-align: top;\n",
       "    }\n",
       "\n",
       "    .dataframe thead th {\n",
       "        text-align: right;\n",
       "    }\n",
       "</style>\n",
       "<table border=\"1\" class=\"dataframe\">\n",
       "  <thead>\n",
       "    <tr style=\"text-align: right;\">\n",
       "      <th></th>\n",
       "      <th>Model</th>\n",
       "      <th>r2_score</th>\n",
       "      <th>MAE</th>\n",
       "    </tr>\n",
       "  </thead>\n",
       "  <tbody>\n",
       "    <tr>\n",
       "      <th>0</th>\n",
       "      <td>RandomForestRegressor</td>\n",
       "      <td>0.035037</td>\n",
       "      <td>54766.764303</td>\n",
       "    </tr>\n",
       "    <tr>\n",
       "      <th>1</th>\n",
       "      <td>XGBRegressor</td>\n",
       "      <td>0.135706</td>\n",
       "      <td>50739.807145</td>\n",
       "    </tr>\n",
       "    <tr>\n",
       "      <th>2</th>\n",
       "      <td>GradientBoostingRegressor</td>\n",
       "      <td>0.158267</td>\n",
       "      <td>50024.658254</td>\n",
       "    </tr>\n",
       "    <tr>\n",
       "      <th>3</th>\n",
       "      <td>Decision Tree Regressor</td>\n",
       "      <td>-0.716098</td>\n",
       "      <td>66897.791631</td>\n",
       "    </tr>\n",
       "    <tr>\n",
       "      <th>4</th>\n",
       "      <td>LinearRegression</td>\n",
       "      <td>0.149706</td>\n",
       "      <td>51034.734706</td>\n",
       "    </tr>\n",
       "    <tr>\n",
       "      <th>5</th>\n",
       "      <td>LightGBM</td>\n",
       "      <td>0.157068</td>\n",
       "      <td>50005.706472</td>\n",
       "    </tr>\n",
       "  </tbody>\n",
       "</table>\n",
       "</div>"
      ],
      "text/plain": [
       "                       Model  r2_score           MAE\n",
       "0      RandomForestRegressor  0.035037  54766.764303\n",
       "1               XGBRegressor  0.135706  50739.807145\n",
       "2  GradientBoostingRegressor  0.158267  50024.658254\n",
       "3    Decision Tree Regressor -0.716098  66897.791631\n",
       "4           LinearRegression  0.149706  51034.734706\n",
       "5                   LightGBM  0.157068  50005.706472"
      ]
     },
     "execution_count": 144,
     "metadata": {},
     "output_type": "execute_result"
    }
   ],
   "source": [
    "evaluation = pd.DataFrame({'Model': names,\n",
    "                           'r2_score': r2_scores,\n",
    "                          'MAE':MAE})\n",
    "evaluation"
   ]
  },
  {
   "cell_type": "markdown",
   "id": "d986ec7f-c25c-4b88-9f5d-3e3dd93cd7a1",
   "metadata": {},
   "source": [
    "### From the above table GradientBoostingRegressor has the best r2 score hence fitting the model to Xtrain with best params taken from gridsearch in method 1"
   ]
  },
  {
   "cell_type": "code",
   "execution_count": 117,
   "id": "4c53e29c-a0ee-4218-93af-e60fa6e61ac3",
   "metadata": {},
   "outputs": [],
   "source": [
    "from sklearn.model_selection import cross_val_score"
   ]
  },
  {
   "cell_type": "code",
   "execution_count": 156,
   "id": "cdb08e18-5508-4a17-9e96-cbb4faf27a9a",
   "metadata": {},
   "outputs": [],
   "source": [
    "pipe=Pipeline([('ct',ct),('GradientBoostingRegressor',GradientBoostingRegressor(max_depth=5, max_leaf_nodes=5, min_samples_leaf=10,learning_rate=0.1,\n",
    "    n_estimators=100,random_state = 200))])\n"
   ]
  },
  {
   "cell_type": "code",
   "execution_count": 158,
   "id": "6d4797c7-b35f-4b3e-b642-15ce90ff40ae",
   "metadata": {},
   "outputs": [
    {
     "data": {
      "text/html": [
       "<style>#sk-container-id-5 {color: black;background-color: white;}#sk-container-id-5 pre{padding: 0;}#sk-container-id-5 div.sk-toggleable {background-color: white;}#sk-container-id-5 label.sk-toggleable__label {cursor: pointer;display: block;width: 100%;margin-bottom: 0;padding: 0.3em;box-sizing: border-box;text-align: center;}#sk-container-id-5 label.sk-toggleable__label-arrow:before {content: \"▸\";float: left;margin-right: 0.25em;color: #696969;}#sk-container-id-5 label.sk-toggleable__label-arrow:hover:before {color: black;}#sk-container-id-5 div.sk-estimator:hover label.sk-toggleable__label-arrow:before {color: black;}#sk-container-id-5 div.sk-toggleable__content {max-height: 0;max-width: 0;overflow: hidden;text-align: left;background-color: #f0f8ff;}#sk-container-id-5 div.sk-toggleable__content pre {margin: 0.2em;color: black;border-radius: 0.25em;background-color: #f0f8ff;}#sk-container-id-5 input.sk-toggleable__control:checked~div.sk-toggleable__content {max-height: 200px;max-width: 100%;overflow: auto;}#sk-container-id-5 input.sk-toggleable__control:checked~label.sk-toggleable__label-arrow:before {content: \"▾\";}#sk-container-id-5 div.sk-estimator input.sk-toggleable__control:checked~label.sk-toggleable__label {background-color: #d4ebff;}#sk-container-id-5 div.sk-label input.sk-toggleable__control:checked~label.sk-toggleable__label {background-color: #d4ebff;}#sk-container-id-5 input.sk-hidden--visually {border: 0;clip: rect(1px 1px 1px 1px);clip: rect(1px, 1px, 1px, 1px);height: 1px;margin: -1px;overflow: hidden;padding: 0;position: absolute;width: 1px;}#sk-container-id-5 div.sk-estimator {font-family: monospace;background-color: #f0f8ff;border: 1px dotted black;border-radius: 0.25em;box-sizing: border-box;margin-bottom: 0.5em;}#sk-container-id-5 div.sk-estimator:hover {background-color: #d4ebff;}#sk-container-id-5 div.sk-parallel-item::after {content: \"\";width: 100%;border-bottom: 1px solid gray;flex-grow: 1;}#sk-container-id-5 div.sk-label:hover label.sk-toggleable__label {background-color: #d4ebff;}#sk-container-id-5 div.sk-serial::before {content: \"\";position: absolute;border-left: 1px solid gray;box-sizing: border-box;top: 0;bottom: 0;left: 50%;z-index: 0;}#sk-container-id-5 div.sk-serial {display: flex;flex-direction: column;align-items: center;background-color: white;padding-right: 0.2em;padding-left: 0.2em;position: relative;}#sk-container-id-5 div.sk-item {position: relative;z-index: 1;}#sk-container-id-5 div.sk-parallel {display: flex;align-items: stretch;justify-content: center;background-color: white;position: relative;}#sk-container-id-5 div.sk-item::before, #sk-container-id-5 div.sk-parallel-item::before {content: \"\";position: absolute;border-left: 1px solid gray;box-sizing: border-box;top: 0;bottom: 0;left: 50%;z-index: -1;}#sk-container-id-5 div.sk-parallel-item {display: flex;flex-direction: column;z-index: 1;position: relative;background-color: white;}#sk-container-id-5 div.sk-parallel-item:first-child::after {align-self: flex-end;width: 50%;}#sk-container-id-5 div.sk-parallel-item:last-child::after {align-self: flex-start;width: 50%;}#sk-container-id-5 div.sk-parallel-item:only-child::after {width: 0;}#sk-container-id-5 div.sk-dashed-wrapped {border: 1px dashed gray;margin: 0 0.4em 0.5em 0.4em;box-sizing: border-box;padding-bottom: 0.4em;background-color: white;}#sk-container-id-5 div.sk-label label {font-family: monospace;font-weight: bold;display: inline-block;line-height: 1.2em;}#sk-container-id-5 div.sk-label-container {text-align: center;}#sk-container-id-5 div.sk-container {/* jupyter's `normalize.less` sets `[hidden] { display: none; }` but bootstrap.min.css set `[hidden] { display: none !important; }` so we also need the `!important` here to be able to override the default hidden behavior on the sphinx rendered scikit-learn.org. See: https://github.com/scikit-learn/scikit-learn/issues/21755 */display: inline-block !important;position: relative;}#sk-container-id-5 div.sk-text-repr-fallback {display: none;}</style><div id=\"sk-container-id-5\" class=\"sk-top-container\"><div class=\"sk-text-repr-fallback\"><pre>Pipeline(steps=[(&#x27;ct&#x27;,\n",
       "                 ColumnTransformer(remainder=&#x27;passthrough&#x27;,\n",
       "                                   transformers=[(&#x27;ohe&#x27;,\n",
       "                                                  OneHotEncoder(drop=&#x27;first&#x27;,\n",
       "                                                                sparse=False),\n",
       "                                                  [&#x27;gender&#x27;, &#x27;area&#x27;, &#x27;policy&#x27;]),\n",
       "                                                 (&#x27;ore&#x27;,\n",
       "                                                  OrdinalEncoder(categories=[[&#x27;Others&#x27;,\n",
       "                                                                              &#x27;High &#x27;\n",
       "                                                                              &#x27;School&#x27;,\n",
       "                                                                              &#x27;Bachelor&#x27;],\n",
       "                                                                             [&#x27;&lt;=2L&#x27;,\n",
       "                                                                              &#x27;2L-5L&#x27;,\n",
       "                                                                              &#x27;5L-10L&#x27;,\n",
       "                                                                              &#x27;More &#x27;\n",
       "                                                                              &#x27;than &#x27;\n",
       "                                                                              &#x27;10L&#x27;],\n",
       "                                                                             [0,\n",
       "                                                                              1,\n",
       "                                                                              2,\n",
       "                                                                              3,\n",
       "                                                                              4,\n",
       "                                                                              5,\n",
       "                                                                              6,\n",
       "                                                                              7,\n",
       "                                                                              8],\n",
       "                                                                             [&#x27;1&#x27;,\n",
       "                                                                              &#x27;More &#x27;\n",
       "                                                                              &#x27;than &#x27;\n",
       "                                                                              &#x27;1&#x27;],\n",
       "                                                                             [&#x27;Silver&#x27;,\n",
       "                                                                              &#x27;Gold&#x27;,\n",
       "                                                                              &#x27;Platinum&#x27;]]),\n",
       "                                                  [&#x27;qualification&#x27;, &#x27;income&#x27;,\n",
       "                                                   &#x27;vintage&#x27;, &#x27;num_policies&#x27;,\n",
       "                                                   &#x27;type_of_policy&#x27;])])),\n",
       "                (&#x27;GradientBoostingRegressor&#x27;,\n",
       "                 GradientBoostingRegressor(max_depth=5, max_leaf_nodes=5,\n",
       "                                           min_samples_leaf=10,\n",
       "                                           random_state=200))])</pre><b>In a Jupyter environment, please rerun this cell to show the HTML representation or trust the notebook. <br />On GitHub, the HTML representation is unable to render, please try loading this page with nbviewer.org.</b></div><div class=\"sk-container\" hidden><div class=\"sk-item sk-dashed-wrapped\"><div class=\"sk-label-container\"><div class=\"sk-label sk-toggleable\"><input class=\"sk-toggleable__control sk-hidden--visually\" id=\"sk-estimator-id-52\" type=\"checkbox\" ><label for=\"sk-estimator-id-52\" class=\"sk-toggleable__label sk-toggleable__label-arrow\">Pipeline</label><div class=\"sk-toggleable__content\"><pre>Pipeline(steps=[(&#x27;ct&#x27;,\n",
       "                 ColumnTransformer(remainder=&#x27;passthrough&#x27;,\n",
       "                                   transformers=[(&#x27;ohe&#x27;,\n",
       "                                                  OneHotEncoder(drop=&#x27;first&#x27;,\n",
       "                                                                sparse=False),\n",
       "                                                  [&#x27;gender&#x27;, &#x27;area&#x27;, &#x27;policy&#x27;]),\n",
       "                                                 (&#x27;ore&#x27;,\n",
       "                                                  OrdinalEncoder(categories=[[&#x27;Others&#x27;,\n",
       "                                                                              &#x27;High &#x27;\n",
       "                                                                              &#x27;School&#x27;,\n",
       "                                                                              &#x27;Bachelor&#x27;],\n",
       "                                                                             [&#x27;&lt;=2L&#x27;,\n",
       "                                                                              &#x27;2L-5L&#x27;,\n",
       "                                                                              &#x27;5L-10L&#x27;,\n",
       "                                                                              &#x27;More &#x27;\n",
       "                                                                              &#x27;than &#x27;\n",
       "                                                                              &#x27;10L&#x27;],\n",
       "                                                                             [0,\n",
       "                                                                              1,\n",
       "                                                                              2,\n",
       "                                                                              3,\n",
       "                                                                              4,\n",
       "                                                                              5,\n",
       "                                                                              6,\n",
       "                                                                              7,\n",
       "                                                                              8],\n",
       "                                                                             [&#x27;1&#x27;,\n",
       "                                                                              &#x27;More &#x27;\n",
       "                                                                              &#x27;than &#x27;\n",
       "                                                                              &#x27;1&#x27;],\n",
       "                                                                             [&#x27;Silver&#x27;,\n",
       "                                                                              &#x27;Gold&#x27;,\n",
       "                                                                              &#x27;Platinum&#x27;]]),\n",
       "                                                  [&#x27;qualification&#x27;, &#x27;income&#x27;,\n",
       "                                                   &#x27;vintage&#x27;, &#x27;num_policies&#x27;,\n",
       "                                                   &#x27;type_of_policy&#x27;])])),\n",
       "                (&#x27;GradientBoostingRegressor&#x27;,\n",
       "                 GradientBoostingRegressor(max_depth=5, max_leaf_nodes=5,\n",
       "                                           min_samples_leaf=10,\n",
       "                                           random_state=200))])</pre></div></div></div><div class=\"sk-serial\"><div class=\"sk-item sk-dashed-wrapped\"><div class=\"sk-label-container\"><div class=\"sk-label sk-toggleable\"><input class=\"sk-toggleable__control sk-hidden--visually\" id=\"sk-estimator-id-53\" type=\"checkbox\" ><label for=\"sk-estimator-id-53\" class=\"sk-toggleable__label sk-toggleable__label-arrow\">ct: ColumnTransformer</label><div class=\"sk-toggleable__content\"><pre>ColumnTransformer(remainder=&#x27;passthrough&#x27;,\n",
       "                  transformers=[(&#x27;ohe&#x27;,\n",
       "                                 OneHotEncoder(drop=&#x27;first&#x27;, sparse=False),\n",
       "                                 [&#x27;gender&#x27;, &#x27;area&#x27;, &#x27;policy&#x27;]),\n",
       "                                (&#x27;ore&#x27;,\n",
       "                                 OrdinalEncoder(categories=[[&#x27;Others&#x27;,\n",
       "                                                             &#x27;High School&#x27;,\n",
       "                                                             &#x27;Bachelor&#x27;],\n",
       "                                                            [&#x27;&lt;=2L&#x27;, &#x27;2L-5L&#x27;,\n",
       "                                                             &#x27;5L-10L&#x27;,\n",
       "                                                             &#x27;More than 10L&#x27;],\n",
       "                                                            [0, 1, 2, 3, 4, 5,\n",
       "                                                             6, 7, 8],\n",
       "                                                            [&#x27;1&#x27;,\n",
       "                                                             &#x27;More than 1&#x27;],\n",
       "                                                            [&#x27;Silver&#x27;, &#x27;Gold&#x27;,\n",
       "                                                             &#x27;Platinum&#x27;]]),\n",
       "                                 [&#x27;qualification&#x27;, &#x27;income&#x27;, &#x27;vintage&#x27;,\n",
       "                                  &#x27;num_policies&#x27;, &#x27;type_of_policy&#x27;])])</pre></div></div></div><div class=\"sk-parallel\"><div class=\"sk-parallel-item\"><div class=\"sk-item\"><div class=\"sk-label-container\"><div class=\"sk-label sk-toggleable\"><input class=\"sk-toggleable__control sk-hidden--visually\" id=\"sk-estimator-id-54\" type=\"checkbox\" ><label for=\"sk-estimator-id-54\" class=\"sk-toggleable__label sk-toggleable__label-arrow\">ohe</label><div class=\"sk-toggleable__content\"><pre>[&#x27;gender&#x27;, &#x27;area&#x27;, &#x27;policy&#x27;]</pre></div></div></div><div class=\"sk-serial\"><div class=\"sk-item\"><div class=\"sk-estimator sk-toggleable\"><input class=\"sk-toggleable__control sk-hidden--visually\" id=\"sk-estimator-id-55\" type=\"checkbox\" ><label for=\"sk-estimator-id-55\" class=\"sk-toggleable__label sk-toggleable__label-arrow\">OneHotEncoder</label><div class=\"sk-toggleable__content\"><pre>OneHotEncoder(drop=&#x27;first&#x27;, sparse=False)</pre></div></div></div></div></div></div><div class=\"sk-parallel-item\"><div class=\"sk-item\"><div class=\"sk-label-container\"><div class=\"sk-label sk-toggleable\"><input class=\"sk-toggleable__control sk-hidden--visually\" id=\"sk-estimator-id-56\" type=\"checkbox\" ><label for=\"sk-estimator-id-56\" class=\"sk-toggleable__label sk-toggleable__label-arrow\">ore</label><div class=\"sk-toggleable__content\"><pre>[&#x27;qualification&#x27;, &#x27;income&#x27;, &#x27;vintage&#x27;, &#x27;num_policies&#x27;, &#x27;type_of_policy&#x27;]</pre></div></div></div><div class=\"sk-serial\"><div class=\"sk-item\"><div class=\"sk-estimator sk-toggleable\"><input class=\"sk-toggleable__control sk-hidden--visually\" id=\"sk-estimator-id-57\" type=\"checkbox\" ><label for=\"sk-estimator-id-57\" class=\"sk-toggleable__label sk-toggleable__label-arrow\">OrdinalEncoder</label><div class=\"sk-toggleable__content\"><pre>OrdinalEncoder(categories=[[&#x27;Others&#x27;, &#x27;High School&#x27;, &#x27;Bachelor&#x27;],\n",
       "                           [&#x27;&lt;=2L&#x27;, &#x27;2L-5L&#x27;, &#x27;5L-10L&#x27;, &#x27;More than 10L&#x27;],\n",
       "                           [0, 1, 2, 3, 4, 5, 6, 7, 8], [&#x27;1&#x27;, &#x27;More than 1&#x27;],\n",
       "                           [&#x27;Silver&#x27;, &#x27;Gold&#x27;, &#x27;Platinum&#x27;]])</pre></div></div></div></div></div></div><div class=\"sk-parallel-item\"><div class=\"sk-item\"><div class=\"sk-label-container\"><div class=\"sk-label sk-toggleable\"><input class=\"sk-toggleable__control sk-hidden--visually\" id=\"sk-estimator-id-58\" type=\"checkbox\" ><label for=\"sk-estimator-id-58\" class=\"sk-toggleable__label sk-toggleable__label-arrow\">remainder</label><div class=\"sk-toggleable__content\"><pre>[&#x27;marital_status&#x27;, &#x27;claim_amount&#x27;]</pre></div></div></div><div class=\"sk-serial\"><div class=\"sk-item\"><div class=\"sk-estimator sk-toggleable\"><input class=\"sk-toggleable__control sk-hidden--visually\" id=\"sk-estimator-id-59\" type=\"checkbox\" ><label for=\"sk-estimator-id-59\" class=\"sk-toggleable__label sk-toggleable__label-arrow\">passthrough</label><div class=\"sk-toggleable__content\"><pre>passthrough</pre></div></div></div></div></div></div></div></div><div class=\"sk-item\"><div class=\"sk-estimator sk-toggleable\"><input class=\"sk-toggleable__control sk-hidden--visually\" id=\"sk-estimator-id-60\" type=\"checkbox\" ><label for=\"sk-estimator-id-60\" class=\"sk-toggleable__label sk-toggleable__label-arrow\">GradientBoostingRegressor</label><div class=\"sk-toggleable__content\"><pre>GradientBoostingRegressor(max_depth=5, max_leaf_nodes=5, min_samples_leaf=10,\n",
       "                          random_state=200)</pre></div></div></div></div></div></div></div>"
      ],
      "text/plain": [
       "Pipeline(steps=[('ct',\n",
       "                 ColumnTransformer(remainder='passthrough',\n",
       "                                   transformers=[('ohe',\n",
       "                                                  OneHotEncoder(drop='first',\n",
       "                                                                sparse=False),\n",
       "                                                  ['gender', 'area', 'policy']),\n",
       "                                                 ('ore',\n",
       "                                                  OrdinalEncoder(categories=[['Others',\n",
       "                                                                              'High '\n",
       "                                                                              'School',\n",
       "                                                                              'Bachelor'],\n",
       "                                                                             ['<=2L',\n",
       "                                                                              '2L-5L',\n",
       "                                                                              '5L-10L',\n",
       "                                                                              'More '\n",
       "                                                                              'than '\n",
       "                                                                              '10L'],\n",
       "                                                                             [0,\n",
       "                                                                              1,\n",
       "                                                                              2,\n",
       "                                                                              3,\n",
       "                                                                              4,\n",
       "                                                                              5,\n",
       "                                                                              6,\n",
       "                                                                              7,\n",
       "                                                                              8],\n",
       "                                                                             ['1',\n",
       "                                                                              'More '\n",
       "                                                                              'than '\n",
       "                                                                              '1'],\n",
       "                                                                             ['Silver',\n",
       "                                                                              'Gold',\n",
       "                                                                              'Platinum']]),\n",
       "                                                  ['qualification', 'income',\n",
       "                                                   'vintage', 'num_policies',\n",
       "                                                   'type_of_policy'])])),\n",
       "                ('GradientBoostingRegressor',\n",
       "                 GradientBoostingRegressor(max_depth=5, max_leaf_nodes=5,\n",
       "                                           min_samples_leaf=10,\n",
       "                                           random_state=200))])"
      ]
     },
     "execution_count": 158,
     "metadata": {},
     "output_type": "execute_result"
    }
   ],
   "source": [
    "pipe.fit( X_train, y_train)"
   ]
  },
  {
   "cell_type": "code",
   "execution_count": 162,
   "id": "806018fc-3583-4670-a949-cd1aa4184317",
   "metadata": {},
   "outputs": [
    {
     "name": "stdout",
     "output_type": "stream",
     "text": [
      "r2_score for GradientBoosting_model:  0.1582665696941682\n"
     ]
    }
   ],
   "source": [
    "y_pred = pipe.predict(X_test)\n",
    "score=r2_score(y_test,y_pred)\n",
    "print(\"r2_score for GradientBoosting_model: \",score)"
   ]
  },
  {
   "cell_type": "code",
   "execution_count": 157,
   "id": "e4d8274d-7e61-40e9-a39c-ae93754fe17c",
   "metadata": {},
   "outputs": [
    {
     "data": {
      "text/plain": [
       "0.15994354639114744"
      ]
     },
     "execution_count": 157,
     "metadata": {},
     "output_type": "execute_result"
    }
   ],
   "source": [
    "cross_val_score(pipe, X_train, y_train, cv=5, scoring='r2').mean()"
   ]
  },
  {
   "cell_type": "code",
   "execution_count": 165,
   "id": "0c10952f-a830-4269-9c11-b2d28269492f",
   "metadata": {},
   "outputs": [
    {
     "data": {
      "text/plain": [
       "0.1527310627934322"
      ]
     },
     "execution_count": 165,
     "metadata": {},
     "output_type": "execute_result"
    }
   ],
   "source": [
    "cross_val_score(pipe, X_test, y_test, cv=5, scoring='r2').mean()"
   ]
  },
  {
   "cell_type": "markdown",
   "id": "fbe3c471-2b1c-459d-b8f6-579e713c0da0",
   "metadata": {},
   "source": [
    "### Crossvalidation on the entire train dataset"
   ]
  },
  {
   "cell_type": "code",
   "execution_count": 167,
   "id": "8b7a09c9-05a4-498d-beb7-5da375e6ed48",
   "metadata": {},
   "outputs": [
    {
     "data": {
      "text/plain": [
       "0.16028751598357727"
      ]
     },
     "execution_count": 167,
     "metadata": {},
     "output_type": "execute_result"
    }
   ],
   "source": [
    "cross_val_score(pipe, df.drop('cltv',axis=1), df['cltv'], cv=5, scoring='r2').mean()"
   ]
  },
  {
   "cell_type": "code",
   "execution_count": 150,
   "id": "f2afd632-59a9-4c47-abae-bb7aafe85caf",
   "metadata": {},
   "outputs": [],
   "source": [
    "test=pd.read_csv('test_koRSKBP.csv')"
   ]
  },
  {
   "cell_type": "code",
   "execution_count": 166,
   "id": "56640e6d-0e88-4a30-9f70-3bcbb736fc15",
   "metadata": {},
   "outputs": [
    {
     "data": {
      "text/html": [
       "<div>\n",
       "<style scoped>\n",
       "    .dataframe tbody tr th:only-of-type {\n",
       "        vertical-align: middle;\n",
       "    }\n",
       "\n",
       "    .dataframe tbody tr th {\n",
       "        vertical-align: top;\n",
       "    }\n",
       "\n",
       "    .dataframe thead th {\n",
       "        text-align: right;\n",
       "    }\n",
       "</style>\n",
       "<table border=\"1\" class=\"dataframe\">\n",
       "  <thead>\n",
       "    <tr style=\"text-align: right;\">\n",
       "      <th></th>\n",
       "      <th>gender</th>\n",
       "      <th>area</th>\n",
       "      <th>qualification</th>\n",
       "      <th>income</th>\n",
       "      <th>marital_status</th>\n",
       "      <th>vintage</th>\n",
       "      <th>claim_amount</th>\n",
       "      <th>num_policies</th>\n",
       "      <th>policy</th>\n",
       "      <th>type_of_policy</th>\n",
       "      <th>cltv</th>\n",
       "    </tr>\n",
       "  </thead>\n",
       "  <tbody>\n",
       "    <tr>\n",
       "      <th>0</th>\n",
       "      <td>Male</td>\n",
       "      <td>Urban</td>\n",
       "      <td>Bachelor</td>\n",
       "      <td>5L-10L</td>\n",
       "      <td>1</td>\n",
       "      <td>5</td>\n",
       "      <td>5790</td>\n",
       "      <td>More than 1</td>\n",
       "      <td>A</td>\n",
       "      <td>Platinum</td>\n",
       "      <td>64308</td>\n",
       "    </tr>\n",
       "    <tr>\n",
       "      <th>1</th>\n",
       "      <td>Male</td>\n",
       "      <td>Rural</td>\n",
       "      <td>High School</td>\n",
       "      <td>5L-10L</td>\n",
       "      <td>0</td>\n",
       "      <td>8</td>\n",
       "      <td>5080</td>\n",
       "      <td>More than 1</td>\n",
       "      <td>A</td>\n",
       "      <td>Platinum</td>\n",
       "      <td>515400</td>\n",
       "    </tr>\n",
       "    <tr>\n",
       "      <th>2</th>\n",
       "      <td>Male</td>\n",
       "      <td>Urban</td>\n",
       "      <td>Bachelor</td>\n",
       "      <td>5L-10L</td>\n",
       "      <td>1</td>\n",
       "      <td>8</td>\n",
       "      <td>2599</td>\n",
       "      <td>More than 1</td>\n",
       "      <td>A</td>\n",
       "      <td>Platinum</td>\n",
       "      <td>64212</td>\n",
       "    </tr>\n",
       "    <tr>\n",
       "      <th>3</th>\n",
       "      <td>Female</td>\n",
       "      <td>Rural</td>\n",
       "      <td>High School</td>\n",
       "      <td>5L-10L</td>\n",
       "      <td>0</td>\n",
       "      <td>7</td>\n",
       "      <td>0</td>\n",
       "      <td>More than 1</td>\n",
       "      <td>A</td>\n",
       "      <td>Platinum</td>\n",
       "      <td>97920</td>\n",
       "    </tr>\n",
       "    <tr>\n",
       "      <th>4</th>\n",
       "      <td>Male</td>\n",
       "      <td>Urban</td>\n",
       "      <td>High School</td>\n",
       "      <td>More than 10L</td>\n",
       "      <td>1</td>\n",
       "      <td>6</td>\n",
       "      <td>3508</td>\n",
       "      <td>More than 1</td>\n",
       "      <td>A</td>\n",
       "      <td>Gold</td>\n",
       "      <td>59736</td>\n",
       "    </tr>\n",
       "    <tr>\n",
       "      <th>...</th>\n",
       "      <td>...</td>\n",
       "      <td>...</td>\n",
       "      <td>...</td>\n",
       "      <td>...</td>\n",
       "      <td>...</td>\n",
       "      <td>...</td>\n",
       "      <td>...</td>\n",
       "      <td>...</td>\n",
       "      <td>...</td>\n",
       "      <td>...</td>\n",
       "      <td>...</td>\n",
       "    </tr>\n",
       "    <tr>\n",
       "      <th>89387</th>\n",
       "      <td>Male</td>\n",
       "      <td>Rural</td>\n",
       "      <td>High School</td>\n",
       "      <td>More than 10L</td>\n",
       "      <td>0</td>\n",
       "      <td>6</td>\n",
       "      <td>0</td>\n",
       "      <td>More than 1</td>\n",
       "      <td>B</td>\n",
       "      <td>Platinum</td>\n",
       "      <td>95736</td>\n",
       "    </tr>\n",
       "    <tr>\n",
       "      <th>89388</th>\n",
       "      <td>Male</td>\n",
       "      <td>Urban</td>\n",
       "      <td>Bachelor</td>\n",
       "      <td>5L-10L</td>\n",
       "      <td>1</td>\n",
       "      <td>0</td>\n",
       "      <td>3897</td>\n",
       "      <td>More than 1</td>\n",
       "      <td>A</td>\n",
       "      <td>Platinum</td>\n",
       "      <td>67596</td>\n",
       "    </tr>\n",
       "    <tr>\n",
       "      <th>89389</th>\n",
       "      <td>Female</td>\n",
       "      <td>Urban</td>\n",
       "      <td>Bachelor</td>\n",
       "      <td>5L-10L</td>\n",
       "      <td>0</td>\n",
       "      <td>4</td>\n",
       "      <td>3363</td>\n",
       "      <td>More than 1</td>\n",
       "      <td>B</td>\n",
       "      <td>Platinum</td>\n",
       "      <td>114120</td>\n",
       "    </tr>\n",
       "    <tr>\n",
       "      <th>89390</th>\n",
       "      <td>Female</td>\n",
       "      <td>Rural</td>\n",
       "      <td>High School</td>\n",
       "      <td>2L-5L</td>\n",
       "      <td>0</td>\n",
       "      <td>8</td>\n",
       "      <td>0</td>\n",
       "      <td>More than 1</td>\n",
       "      <td>B</td>\n",
       "      <td>Platinum</td>\n",
       "      <td>71772</td>\n",
       "    </tr>\n",
       "    <tr>\n",
       "      <th>89391</th>\n",
       "      <td>Female</td>\n",
       "      <td>Rural</td>\n",
       "      <td>High School</td>\n",
       "      <td>5L-10L</td>\n",
       "      <td>0</td>\n",
       "      <td>6</td>\n",
       "      <td>0</td>\n",
       "      <td>More than 1</td>\n",
       "      <td>B</td>\n",
       "      <td>Gold</td>\n",
       "      <td>108144</td>\n",
       "    </tr>\n",
       "  </tbody>\n",
       "</table>\n",
       "<p>89392 rows × 11 columns</p>\n",
       "</div>"
      ],
      "text/plain": [
       "       gender   area qualification         income  marital_status  vintage  \\\n",
       "0        Male  Urban      Bachelor         5L-10L               1        5   \n",
       "1        Male  Rural   High School         5L-10L               0        8   \n",
       "2        Male  Urban      Bachelor         5L-10L               1        8   \n",
       "3      Female  Rural   High School         5L-10L               0        7   \n",
       "4        Male  Urban   High School  More than 10L               1        6   \n",
       "...       ...    ...           ...            ...             ...      ...   \n",
       "89387    Male  Rural   High School  More than 10L               0        6   \n",
       "89388    Male  Urban      Bachelor         5L-10L               1        0   \n",
       "89389  Female  Urban      Bachelor         5L-10L               0        4   \n",
       "89390  Female  Rural   High School          2L-5L               0        8   \n",
       "89391  Female  Rural   High School         5L-10L               0        6   \n",
       "\n",
       "       claim_amount num_policies policy type_of_policy    cltv  \n",
       "0              5790  More than 1      A       Platinum   64308  \n",
       "1              5080  More than 1      A       Platinum  515400  \n",
       "2              2599  More than 1      A       Platinum   64212  \n",
       "3                 0  More than 1      A       Platinum   97920  \n",
       "4              3508  More than 1      A           Gold   59736  \n",
       "...             ...          ...    ...            ...     ...  \n",
       "89387             0  More than 1      B       Platinum   95736  \n",
       "89388          3897  More than 1      A       Platinum   67596  \n",
       "89389          3363  More than 1      B       Platinum  114120  \n",
       "89390             0  More than 1      B       Platinum   71772  \n",
       "89391             0  More than 1      B           Gold  108144  \n",
       "\n",
       "[89392 rows x 11 columns]"
      ]
     },
     "execution_count": 166,
     "metadata": {},
     "output_type": "execute_result"
    }
   ],
   "source": [
    "df"
   ]
  },
  {
   "cell_type": "markdown",
   "id": "7611e498-35d3-4d24-a12e-6c1a36df0324",
   "metadata": {},
   "source": [
    "### Predicting on test data"
   ]
  },
  {
   "cell_type": "code",
   "execution_count": 159,
   "id": "f02a8121-9c81-4a76-bd75-995841908ef1",
   "metadata": {},
   "outputs": [],
   "source": [
    "# prediction of test data\n",
    "\n",
    "preds = pipe.predict(test.iloc[:,1:])"
   ]
  },
  {
   "cell_type": "code",
   "execution_count": 161,
   "id": "d0dacb4e-3541-48aa-9fcc-6b37abad8628",
   "metadata": {},
   "outputs": [],
   "source": [
    "submission = pd.DataFrame()\n",
    "submission['id'] = test['id']\n",
    "submission['cltv'] = preds\n",
    "submission.to_csv('test_predictions.csv', index=False)"
   ]
  },
  {
   "cell_type": "code",
   "execution_count": null,
   "id": "5c611c59-574e-4cc2-b36d-c719d6876bb9",
   "metadata": {},
   "outputs": [],
   "source": []
  }
 ],
 "metadata": {
  "kernelspec": {
   "display_name": "Python 3 (ipykernel)",
   "language": "python",
   "name": "python3"
  },
  "language_info": {
   "codemirror_mode": {
    "name": "ipython",
    "version": 3
   },
   "file_extension": ".py",
   "mimetype": "text/x-python",
   "name": "python",
   "nbconvert_exporter": "python",
   "pygments_lexer": "ipython3",
   "version": "3.9.12"
  }
 },
 "nbformat": 4,
 "nbformat_minor": 5
}
